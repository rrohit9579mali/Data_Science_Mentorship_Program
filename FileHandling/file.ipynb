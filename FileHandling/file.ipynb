{
 "cells": [
  {
   "cell_type": "code",
   "execution_count": 21,
   "id": "16e47b9c-725d-415c-98e5-a82b7063cda1",
   "metadata": {},
   "outputs": [
    {
     "name": "stdout",
     "output_type": "stream",
     "text": [
      "Rohit mali\n",
      "darshan mali\n",
      "Rohit mali\n",
      "darshan mali\n"
     ]
    }
   ],
   "source": [
    "op=open('sampl.txt','r')\n",
    "\n",
    "while True:\n",
    "    data=op.readline()\n",
    "    if data =='':\n",
    "        break\n",
    "    else :\n",
    "        print(data,end='')\n",
    "op.close()        "
   ]
  },
  {
   "cell_type": "code",
   "execution_count": 19,
   "id": "0ca93e4f-963a-4968-becb-2f765c5bf687",
   "metadata": {},
   "outputs": [],
   "source": [
    "with open('sampl.txt', 'a') as l:\n",
    "    m = ['Rohit mali\\n', 'darshan mali\\n']  # Ensure newline characters\n",
    "    l.writelines(m)  # Correct method to write multiple lines"
   ]
  },
  {
   "cell_type": "code",
   "execution_count": 20,
   "id": "00c8235f-6146-4d2b-97c8-75db89fd6759",
   "metadata": {},
   "outputs": [
    {
     "name": "stdout",
     "output_type": "stream",
     "text": [
      "Rohit mali\n",
      "darshan mali\n",
      "Rohit mali\n",
      "darshan mali\n",
      "\n"
     ]
    }
   ],
   "source": [
    "\n",
    "l=open('sampl.txt','r')\n",
    "n=l.read()\n",
    "print(n)\n",
    "l.close()"
   ]
  },
  {
   "cell_type": "code",
   "execution_count": 33,
   "id": "6bd73494-bfaf-4b5c-8244-afdc2a50dd5a",
   "metadata": {},
   "outputs": [],
   "source": [
    "l = [\"Ram Ram, \" for i in range(1000)]  # List with 1000 repetitions\n",
    "\n",
    "with open('bigsize.txt', 'w') as f:\n",
    "    f.writelines(l)  # Write all elements to the file\n"
   ]
  },
  {
   "cell_type": "code",
   "execution_count": 37,
   "id": "d19d4c26-56da-4dd4-a695-7ccf57b36ca0",
   "metadata": {},
   "outputs": [
    {
     "name": "stdout",
     "output_type": "stream",
     "text": [
      "am Ram, Ra 121Ram, Ram R 121, Ram Ram, 121am Ram, Ra 121Ram, Ram R 121, Ram Ram, 121am Ram, Ra 121Ram, Ram R 121, Ram Ram, 121am Ram, Ra 121Ram, Ram R 121, Ram Ram, 121am Ram, Ra 121Ram, Ram R 121, Ram Ram, 121am Ram, Ra 121Ram, Ram R 121, Ram Ram, 121am Ram, Ra 121Ram, Ram R 121, Ram Ram, 121am Ram, Ra 121Ram, Ram R 121, Ram Ram, 121am Ram, Ra 121Ram, Ram R 121, Ram Ram, 121am Ram, Ra 121Ram, Ram R 121, Ram Ram, 121am Ram, Ra 121Ram, Ram R 121, Ram Ram, 121am Ram, Ra 121Ram, Ram R 121, Ram Ram, 121am Ram, Ra 121Ram, Ram R 121, Ram Ram, 121am Ram, Ra 121Ram, Ram R 121, Ram Ram, 121am Ram, Ra 121Ram, Ram R 121, Ram Ram, 121am Ram, Ra 121Ram, Ram R 121, Ram Ram, 121am Ram, Ra 121Ram, Ram R 121, Ram Ram, 121am Ram, Ra 121Ram, Ram R 121, Ram Ram, 121am Ram, Ra 121Ram, Ram R 121, Ram Ram, 121am Ram, Ra 121Ram, Ram R 121, Ram Ram, 121am Ram, Ra 121Ram, Ram R 121, Ram Ram, 121am Ram, Ra 121Ram, Ram R 121, Ram Ram, 121am Ram, Ra 121Ram, Ram R 121, Ram Ram, 121am Ram, Ra 121Ram, Ram R 121, Ram Ram, 121am Ram, Ra 121Ram, Ram R 121, Ram Ram, 121am Ram, Ra 121Ram, Ram R 121, Ram Ram, 121am Ram, Ra 121Ram, Ram R 121, Ram Ram, 121am Ram, Ra 121Ram, Ram R 121, Ram Ram, 121am Ram, Ra 121Ram, Ram R 121, Ram Ram, 121am Ram, Ra 121Ram, Ram R 121, Ram Ram, 121am Ram, Ra 121Ram, Ram R 121, Ram Ram, 121am Ram, Ra 121Ram, Ram R 121, Ram Ram, 121am Ram, Ra 121Ram, Ram R 121, Ram Ram, 121am Ram, Ra 121Ram, Ram R 121, Ram Ram, 121am Ram, Ra 121Ram, Ram R 121, Ram Ram, 121am Ram, Ra 121Ram, Ram R 121, Ram Ram, 121am Ram, Ra 121Ram, Ram R 121, Ram Ram, 121am Ram, Ra 121Ram, Ram R 121, Ram Ram, 121am Ram, Ra 121Ram, Ram R 121, Ram Ram, 121am Ram, Ra 121Ram, Ram R 121, Ram Ram, 121am Ram, Ra 121Ram, Ram R 121, Ram Ram, 121am Ram, Ra 121Ram, Ram R 121, Ram Ram, 121am Ram, Ra 121Ram, Ram R 121, Ram Ram, 121am Ram, Ra 121Ram, Ram R 121, Ram Ram, 121am Ram, Ra 121Ram, Ram R 121, Ram Ram, 121am Ram, Ra 121Ram, Ram R 121, Ram Ram, 121am Ram, Ra 121Ram, Ram R 121, Ram Ram, 121am Ram, Ra 121Ram, Ram R 121, Ram Ram, 121am Ram, Ra 121Ram, Ram R 121, Ram Ram, 121am Ram, Ra 121Ram, Ram R 121, Ram Ram, 121am Ram, Ra 121Ram, Ram R 121, Ram Ram, 121am Ram, Ra 121Ram, Ram R 121, Ram Ram, 121am Ram, Ra 121Ram, Ram R 121, Ram Ram, 121am Ram, Ra 121Ram, Ram R 121, Ram Ram, 121am Ram, Ra 121Ram, Ram R 121, Ram Ram, 121am Ram, Ra 121Ram, Ram R 121, Ram Ram, 121am Ram, Ra 121Ram, Ram R 121, Ram Ram, 121am Ram, Ra 121Ram, Ram R 121, Ram Ram, 121am Ram, Ra 121Ram, Ram R 121, Ram Ram, 121am Ram, Ra 121Ram, Ram R 121, Ram Ram, 121am Ram, Ra 121Ram, Ram R 121, Ram Ram, 121am Ram, Ra 121Ram, Ram R 121, Ram Ram, 121am Ram, Ra 121Ram, Ram R 121, Ram Ram, 121am Ram, Ra 121Ram, Ram R 121, Ram Ram, 121am Ram, Ra 121Ram, Ram R 121, Ram Ram, 121am Ram, Ra 121Ram, Ram R 121, Ram Ram, 121am Ram, Ra 121Ram, Ram R 121, Ram Ram, 121am Ram, Ra 121Ram, Ram R 121, Ram Ram, 121am Ram, Ra 121Ram, Ram R 121, Ram Ram, 121am Ram, Ra 121Ram, Ram R 121, Ram Ram, 121am Ram, Ra 121Ram, Ram R 121, Ram Ram, 121am Ram, Ra 121Ram, Ram R 121, Ram Ram, 121am Ram, Ra 121Ram, Ram R 121, Ram Ram, 121am Ram, Ra 121Ram, Ram R 121, Ram Ram, 121am Ram, Ra 121Ram, Ram R 121, Ram Ram, 121am Ram, Ra 121Ram, Ram R 121, Ram Ram, 121am Ram, Ra 121Ram, Ram R 121, Ram Ram, 121am Ram, Ra 121Ram, Ram R 121, Ram Ram, 121am Ram, Ra 121Ram, Ram R 121, Ram Ram, 121am Ram, Ra 121Ram, Ram R 121, Ram Ram, 121am Ram, Ra 121Ram, Ram R 121, Ram Ram, 121am Ram, Ra 121Ram, Ram R 121, Ram Ram, 121am Ram, Ra 121Ram, Ram R 121, Ram Ram, 121am Ram, Ra 121Ram, Ram R 121, Ram Ram, 121am Ram, Ra 121Ram, Ram R 121, Ram Ram, 121am Ram, Ra 121Ram, Ram R 121, Ram Ram, 121am Ram, Ra 121Ram, Ram R 121, Ram Ram, 121am Ram, Ra 121Ram, Ram R 121, Ram Ram, 121am Ram, Ra 121Ram, Ram R 121, Ram Ram, 121am Ram, Ra 121Ram, Ram R 121, Ram Ram, 121am Ram, Ra 121Ram, Ram R 121, Ram Ram, 121am Ram, Ra 121Ram, Ram R 121, Ram Ram, 121am Ram, Ra 121Ram, Ram R 121, Ram Ram, 121am Ram, Ra 121Ram, Ram R 121, Ram Ram, 121am Ram, Ra 121Ram, Ram R 121, Ram Ram, 121am Ram, Ra 121Ram, Ram R 121, Ram Ram, 121am Ram, Ra 121Ram, Ram R 121, Ram Ram, 121am Ram, Ra 121Ram, Ram R 121, Ram Ram, 121am Ram, Ra 121Ram, Ram R 121, Ram Ram, 121am Ram, Ra 121Ram, Ram R 121, Ram Ram, 121"
     ]
    }
   ],
   "source": [
    "check_size=10\n",
    "with open('bigsize.txt','r') as f:\n",
    "    while len(f.read(check_size))>0:\n",
    "        print(f.read(check_size),end='121')\n",
    "        f.read(check_size)"
   ]
  },
  {
   "cell_type": "code",
   "execution_count": 46,
   "id": "c72fdf4d-0fb4-4919-9397-00982549036a",
   "metadata": {},
   "outputs": [
    {
     "name": "stdout",
     "output_type": "stream",
     "text": [
      "2\n",
      "Ra\n",
      "0\n",
      "Ra\n"
     ]
    }
   ],
   "source": [
    "\n",
    "with open('bigsize.txt','r') as l:\n",
    "    m=l.read(2)\n",
    "    print(l.tell())\n",
    "    print(m)\n",
    "    print(l.seek(0))\n",
    "    print(l.read(2))\n"
   ]
  },
  {
   "cell_type": "code",
   "execution_count": 49,
   "id": "2c95dd1f-393c-48c3-be8d-5db9d7022ae5",
   "metadata": {},
   "outputs": [],
   "source": [
    "with open('sampl.txt','w') as f:\n",
    "    f.write('hello')\n",
    "    f.seek(0)\n",
    "    f.write('xa')"
   ]
  },
  {
   "cell_type": "code",
   "execution_count": 50,
   "id": "84edc6ca-72d8-4ce4-90d0-80143b6440b8",
   "metadata": {},
   "outputs": [],
   "source": [
    "#  how to read for binary files \n",
    "with open('50_days_Strict.png','rb') as f:  # rb mean read in binary mode \n",
    "    with open('copy_50_days_Strict.png','wb')as wf:\n",
    "        wf.write(f.read())\n",
    "        \n",
    "\n"
   ]
  },
  {
   "cell_type": "code",
   "execution_count": null,
   "id": "3fa95822-92d9-47ea-b3ca-6d00c91f5c61",
   "metadata": {},
   "outputs": [],
   "source": []
  },
  {
   "cell_type": "code",
   "execution_count": null,
   "id": "45c944f2-8937-4bb9-9498-8e420d103273",
   "metadata": {},
   "outputs": [],
   "source": []
  }
 ],
 "metadata": {
  "kernelspec": {
   "display_name": "Python 3 (ipykernel)",
   "language": "python",
   "name": "python3"
  },
  "language_info": {
   "codemirror_mode": {
    "name": "ipython",
    "version": 3
   },
   "file_extension": ".py",
   "mimetype": "text/x-python",
   "name": "python",
   "nbconvert_exporter": "python",
   "pygments_lexer": "ipython3",
   "version": "3.13.0"
  }
 },
 "nbformat": 4,
 "nbformat_minor": 5
}
