{
 "cells": [
  {
   "cell_type": "code",
   "execution_count": 8,
   "id": "66a80329-a6fb-4188-a523-757547810bc9",
   "metadata": {},
   "outputs": [],
   "source": [
    "#  serialization \n",
    "import json\n",
    "\n",
    "L=[i*2 for i in range(1,11)]\n",
    "\n",
    "with open('demo.json','w')as f:\n",
    "    json.dump(L,f)\n"
   ]
  },
  {
   "cell_type": "code",
   "execution_count": 11,
   "id": "6c00a007-a620-4d96-a990-b0d495d790ff",
   "metadata": {},
   "outputs": [
    {
     "name": "stdout",
     "output_type": "stream",
     "text": [
      "[2, 4, 6, 8, 10, 12, 14, 16, 18, 20]\n"
     ]
    }
   ],
   "source": [
    "with open('demo.json','r')as f:\n",
    "    d=json.load(f)\n",
    "    print(d)"
   ]
  },
  {
   "cell_type": "code",
   "execution_count": 17,
   "id": "ee6331b3-3d71-4c7a-9e16-a9b6c1cbb915",
   "metadata": {},
   "outputs": [],
   "source": [
    "\n",
    "d = {\n",
    "    \"Name\": \"Rohit\",\n",
    "    \"Age\": 19,\n",
    "    \"Role\": \"Student\",\n",
    "    \"class\": \"Sy B.Tech in ETC\"\n",
    "}\n",
    "with open('demo.json', 'w') as f:  # 'w' mode overwrites existing data\n",
    "    json.dump(d, f, indent=4)  # Pretty print JSON with indentation\n"
   ]
  },
  {
   "cell_type": "code",
   "execution_count": null,
   "id": "b66a6a5d-fdcc-4781-9f74-05cfad490ecb",
   "metadata": {},
   "outputs": [],
   "source": []
  },
  {
   "cell_type": "code",
   "execution_count": 35,
   "id": "eeffc217-010d-484d-b320-2871bb6689eb",
   "metadata": {},
   "outputs": [
    {
     "name": "stdout",
     "output_type": "stream",
     "text": [
      "JSON file created successfully!\n"
     ]
    }
   ],
   "source": [
    "import json \n",
    "\n",
    "# Define the class\n",
    "class Person:\n",
    "    def __init__(self, fname, lname, age, gender):\n",
    "        self.fname = fname\n",
    "        self.lname = lname\n",
    "        self.age = age\n",
    "        self.gender = gender\n",
    "\n",
    "    def show_obj(self):\n",
    "        return '{} {} age {} gender {}'.format(self.fname, self.lname, self.age, self.gender)\n",
    "\n",
    "# Create an object\n",
    "obj = Person(\"Rohit\", \"Mali\", 19, \"Male\")\n",
    "\n",
    "# Convert object to dictionary for JSON serialization\n",
    "person_dict = {\n",
    "    \"First Name\": obj.fname,\n",
    "    \"Last Name\": obj.lname,\n",
    "    \"Age\": obj.age,\n",
    "    \"Gender\": obj.gender\n",
    "}\n",
    "\n",
    "# Write JSON data\n",
    "with open('demo.json', 'w') as f:\n",
    "    json.dump(person_dict, f, indent=4)  # Use indent for better readability\n",
    "\n",
    "print(\"JSON file created successfully!\")\n"
   ]
  },
  {
   "cell_type": "raw",
   "id": "09064e6a-b71c-4c0b-b1a6-8ee589318c2d",
   "metadata": {},
   "source": []
  },
  {
   "cell_type": "code",
   "execution_count": 37,
   "id": "c2556112-b8ac-4b19-bbb5-638fe3c5ded2",
   "metadata": {},
   "outputs": [
    {
     "data": {
      "text/plain": [
       "720"
      ]
     },
     "execution_count": 37,
     "metadata": {},
     "output_type": "execute_result"
    }
   ],
   "source": [
    "def fact(n):\n",
    "    if n==1:\n",
    "        return 1\n",
    "    return n*fact(n-1)\n",
    "fact(6)"
   ]
  },
  {
   "cell_type": "code",
   "execution_count": null,
   "id": "7799eaf4-73b9-4189-bdeb-3d59ee60b3f5",
   "metadata": {},
   "outputs": [],
   "source": []
  }
 ],
 "metadata": {
  "kernelspec": {
   "display_name": "Python 3 (ipykernel)",
   "language": "python",
   "name": "python3"
  },
  "language_info": {
   "codemirror_mode": {
    "name": "ipython",
    "version": 3
   },
   "file_extension": ".py",
   "mimetype": "text/x-python",
   "name": "python",
   "nbconvert_exporter": "python",
   "pygments_lexer": "ipython3",
   "version": "3.13.0"
  }
 },
 "nbformat": 4,
 "nbformat_minor": 5
}
