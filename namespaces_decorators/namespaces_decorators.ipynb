{
 "cells": [
  {
   "cell_type": "markdown",
   "metadata": {
    "id": "Xk9kpQFIwb4q"
   },
   "source": [
    "### Namespaces\n",
    "\n",
    "A namespace is a space that holds names(identifiers).Programmatically speaking, namespaces are dictionary of identifiers(keys) and their objects(values)\n",
    "\n",
    "There are 4 types of namespaces:\n",
    "- Builtin Namespace\n",
    "- Global Namespace\n",
    "- Enclosing Namespace\n",
    "- Local Namespace"
   ]
  },
  {
   "cell_type": "markdown",
   "metadata": {
    "id": "gwHLayLAz07u"
   },
   "source": [
    "### Scope and LEGB Rule\n",
    "\n",
    "A scope is a textual region of a Python program where a namespace is directly accessible.\n",
    "\n",
    "The interpreter searches for a name from the inside out, looking in the local, enclosing, global, and finally the built-in scope. If the interpreter doesn’t find the name in any of these locations, then Python raises a NameError exception."
   ]
  },
  {
   "cell_type": "code",
   "execution_count": 1,
   "metadata": {
    "colab": {
     "base_uri": "https://localhost:8080/"
    },
    "id": "je-pFfh12wH_",
    "outputId": "07ad3dca-cf87-4bf1-ce0a-5ec58cb17390"
   },
   "outputs": [
    {
     "name": "stdout",
     "output_type": "stream",
     "text": [
      "3\n",
      "2\n"
     ]
    }
   ],
   "source": [
    "# local and global\n",
    "# global var\n",
    "a = 2\n",
    "\n",
    "def temp():\n",
    "  # local var\n",
    "  b = 3\n",
    "  print(b)\n",
    "\n",
    "temp()\n",
    "print(a)"
   ]
  },
  {
   "cell_type": "code",
   "execution_count": 4,
   "metadata": {
    "id": "j8yQ5lUr2yCq"
   },
   "outputs": [
    {
     "name": "stdout",
     "output_type": "stream",
     "text": [
      "2\n",
      "2\n"
     ]
    }
   ],
   "source": [
    "# local and global -> same name\n",
    "a = 2\n",
    "\n",
    "def temp():\n",
    "  # local var\n",
    "    a=5\n",
    "  print(a)\n",
    "\n",
    "temp()\n",
    "print(a)"
   ]
  },
  {
   "cell_type": "code",
   "execution_count": null,
   "metadata": {
    "colab": {
     "base_uri": "https://localhost:8080/"
    },
    "id": "KGxD7YQS3We_",
    "outputId": "8e329d2f-7a9b-4516-d43e-02d293e882b9"
   },
   "outputs": [
    {
     "name": "stdout",
     "output_type": "stream",
     "text": [
      "2\n",
      "2\n"
     ]
    }
   ],
   "source": [
    "# local and global -> local does not have but global has\n",
    "a = 2\n",
    "\n",
    "def temp():\n",
    "  # local var\n",
    "  print(a)  # This is the possible because follow the py LEGB Rule \n",
    "\n",
    "temp()\n",
    "print(a)\n"
   ]
  },
  {
   "cell_type": "code",
   "execution_count": 7,
   "metadata": {
    "colab": {
     "base_uri": "https://localhost:8080/",
     "height": 348
    },
    "id": "ey9-FHzM21P_",
    "outputId": "fee2d260-f6e5-4db1-f7d7-52c829a41e4a"
   },
   "outputs": [
    {
     "name": "stdout",
     "output_type": "stream",
     "text": [
      "1\n",
      "2\n"
     ]
    }
   ],
   "source": [
    "# local and global -> editing global\n",
    "a = 2\n",
    "\n",
    "def temp():\n",
    "  # local var\n",
    "  a=0\n",
    "  a += 1\n",
    "  print(a)\n",
    "\n",
    "temp()\n",
    "print(a)"
   ]
  },
  {
   "cell_type": "code",
   "execution_count": 23,
   "metadata": {
    "colab": {
     "base_uri": "https://localhost:8080/"
    },
    "id": "F1FtV8ZLBNvy",
    "outputId": "4dd8a6e7-8cda-4652-c34c-f1b3b3b99f3b"
   },
   "outputs": [
    {
     "name": "stdout",
     "output_type": "stream",
     "text": [
      "3\n",
      "3\n"
     ]
    }
   ],
   "source": [
    "a = 2\n",
    "\n",
    "def temp():\n",
    "  # local var \n",
    "  a += 1\n",
    "  print(a)\n",
    "\n",
    "temp()\n",
    "print(a)"
   ]
  },
  {
   "cell_type": "code",
   "execution_count": null,
   "metadata": {
    "id": "yDkgBLQu3JIw"
   },
   "outputs": [],
   "source": [
    "# local and global -> global created inside local\n",
    "def temp():\n",
    "  # local var\n",
    "  global a\n",
    "  a = 1\n",
    "  print(a)\n",
    "\n",
    "temp()\n",
    "print(a)"
   ]
  },
  {
   "cell_type": "code",
   "execution_count": 12,
   "metadata": {
    "colab": {
     "base_uri": "https://localhost:8080/",
     "height": 241
    },
    "id": "gWLr0xi024Or",
    "outputId": "744dd057-68f4-46f1-8f44-522eb5cf3521"
   },
   "outputs": [
    {
     "name": "stdout",
     "output_type": "stream",
     "text": [
      "5\n",
      "5\n"
     ]
    },
    {
     "ename": "NameError",
     "evalue": "name 'z' is not defined",
     "output_type": "error",
     "traceback": [
      "\u001b[1;31m---------------------------------------------------------------------------\u001b[0m",
      "\u001b[1;31mNameError\u001b[0m                                 Traceback (most recent call last)",
      "Cell \u001b[1;32mIn[12], line 9\u001b[0m\n\u001b[0;32m      7\u001b[0m temp(\u001b[38;5;241m5\u001b[39m)\n\u001b[0;32m      8\u001b[0m \u001b[38;5;28mprint\u001b[39m(a)\n\u001b[1;32m----> 9\u001b[0m \u001b[38;5;28mprint\u001b[39m(\u001b[43mz\u001b[49m)\n",
      "\u001b[1;31mNameError\u001b[0m: name 'z' is not defined"
     ]
    }
   ],
   "source": [
    "# local and global -> function parameter is local\n",
    "def temp(z):\n",
    "  # local var\n",
    "  print(z)\n",
    "\n",
    "a = 5\n",
    "temp(5)\n",
    "print(a)\n",
    "# print(z)  # becuse the scope of the z is local so you can not access out side the scope "
   ]
  },
  {
   "cell_type": "code",
   "execution_count": 13,
   "metadata": {
    "colab": {
     "base_uri": "https://localhost:8080/"
    },
    "id": "P7wHSji-3q-r",
    "outputId": "ff2f6d15-70a6-4972-b789-37eeac7082b1"
   },
   "outputs": [
    {
     "name": "stdout",
     "output_type": "stream",
     "text": [
      "['ArithmeticError', 'AssertionError', 'AttributeError', 'BaseException', 'BaseExceptionGroup', 'BlockingIOError', 'BrokenPipeError', 'BufferError', 'BytesWarning', 'ChildProcessError', 'ConnectionAbortedError', 'ConnectionError', 'ConnectionRefusedError', 'ConnectionResetError', 'DeprecationWarning', 'EOFError', 'Ellipsis', 'EncodingWarning', 'EnvironmentError', 'Exception', 'ExceptionGroup', 'False', 'FileExistsError', 'FileNotFoundError', 'FloatingPointError', 'FutureWarning', 'GeneratorExit', 'IOError', 'ImportError', 'ImportWarning', 'IndentationError', 'IndexError', 'InterruptedError', 'IsADirectoryError', 'KeyError', 'KeyboardInterrupt', 'LookupError', 'MemoryError', 'ModuleNotFoundError', 'NameError', 'None', 'NotADirectoryError', 'NotImplemented', 'NotImplementedError', 'OSError', 'OverflowError', 'PendingDeprecationWarning', 'PermissionError', 'ProcessLookupError', 'PythonFinalizationError', 'RecursionError', 'ReferenceError', 'ResourceWarning', 'RuntimeError', 'RuntimeWarning', 'StopAsyncIteration', 'StopIteration', 'SyntaxError', 'SyntaxWarning', 'SystemError', 'SystemExit', 'TabError', 'TimeoutError', 'True', 'TypeError', 'UnboundLocalError', 'UnicodeDecodeError', 'UnicodeEncodeError', 'UnicodeError', 'UnicodeTranslateError', 'UnicodeWarning', 'UserWarning', 'ValueError', 'Warning', 'WindowsError', 'ZeroDivisionError', '_IncompleteInputError', '__IPYTHON__', '__build_class__', '__debug__', '__doc__', '__import__', '__loader__', '__name__', '__package__', '__spec__', 'abs', 'aiter', 'all', 'anext', 'any', 'ascii', 'bin', 'bool', 'breakpoint', 'bytearray', 'bytes', 'callable', 'chr', 'classmethod', 'compile', 'complex', 'copyright', 'credits', 'delattr', 'dict', 'dir', 'display', 'divmod', 'enumerate', 'eval', 'exec', 'execfile', 'filter', 'float', 'format', 'frozenset', 'get_ipython', 'getattr', 'globals', 'hasattr', 'hash', 'help', 'hex', 'id', 'input', 'int', 'isinstance', 'issubclass', 'iter', 'len', 'license', 'list', 'locals', 'map', 'max', 'memoryview', 'min', 'next', 'object', 'oct', 'open', 'ord', 'pow', 'print', 'property', 'range', 'repr', 'reversed', 'round', 'runfile', 'set', 'setattr', 'slice', 'sorted', 'staticmethod', 'str', 'sum', 'super', 'tuple', 'type', 'vars', 'zip']\n"
     ]
    }
   ],
   "source": [
    "# built-in scope\n",
    "import builtins\n",
    "print(dir(builtins))"
   ]
  },
  {
   "cell_type": "code",
   "execution_count": null,
   "metadata": {
    "id": "F769q7Nj33tX"
   },
   "outputs": [],
   "source": [
    "# how to see all the built-ins"
   ]
  },
  {
   "cell_type": "code",
   "execution_count": 36,
   "metadata": {
    "colab": {
     "base_uri": "https://localhost:8080/",
     "height": 241
    },
    "id": "Qd3fM_Ha3ruR",
    "outputId": "fb8b79d9-8b3a-483f-b1aa-b642832c1edd"
   },
   "outputs": [],
   "source": [
    "# # renaming built-ins\n",
    "# L = [1,2,3]\n",
    "# print(max(L))\n",
    "# def ma(a):\n",
    "#    print('hello')\n",
    "\n",
    "# print(ma(1))"
   ]
  },
  {
   "cell_type": "code",
   "execution_count": 32,
   "metadata": {
    "colab": {
     "base_uri": "https://localhost:8080/"
    },
    "id": "JORTYJik4LKH",
    "outputId": "1458570e-91b5-4533-d1be-2f89c4585c79"
   },
   "outputs": [
    {
     "name": "stdout",
     "output_type": "stream",
     "text": [
      "3\n",
      "hello inner \n",
      "hello outer\n"
     ]
    }
   ],
   "source": [
    "def outerfn():\n",
    "    def innerfn():\n",
    "        print(a)\n",
    "        print(\"hello inner \")\n",
    "    innerfn()\n",
    "    print(\"hello outer\")\n",
    "a=3  \n",
    "outerfn()"
   ]
  },
  {
   "cell_type": "code",
   "execution_count": 39,
   "metadata": {
    "colab": {
     "base_uri": "https://localhost:8080/"
    },
    "id": "mG6ONk3I4lFX",
    "outputId": "c989fa4d-0ffd-48bc-fedf-16afc53ca8fa"
   },
   "outputs": [
    {
     "name": "stdout",
     "output_type": "stream",
     "text": [
      "inner 2\n",
      "outer 2\n",
      "main program\n"
     ]
    }
   ],
   "source": [
    "# nonlocal keyword\n",
    "def outer():\n",
    "  a = 1\n",
    "  def inner():\n",
    "    nonlocal a\n",
    "    a += 1\n",
    "    print('inner',a)\n",
    "  inner()\n",
    "  print('outer',a)\n",
    "\n",
    "\n",
    "outer()\n",
    "print('main program')"
   ]
  },
  {
   "cell_type": "code",
   "execution_count": 49,
   "metadata": {},
   "outputs": [
    {
     "name": "stdout",
     "output_type": "stream",
     "text": [
      "Demo\n",
      "mama\n",
      "Rohit demo\n",
      "secound fn \n",
      "Demo\n",
      "mama mami\n",
      "Rohit demo\n"
     ]
    }
   ],
   "source": [
    "def myd(func):\n",
    "    def wrp():\n",
    "        print(\"Demo\")\n",
    "        func()\n",
    "        print(\"Rohit demo\")\n",
    "    return wrp\n",
    "def hello():\n",
    "    print(\"mama\")\n",
    "    \n",
    "def welcome():\n",
    "    print(\"mama mami\")\n",
    "a=myd(hello)    \n",
    "a()   \n",
    "print(\"secound fn \")\n",
    "b=myd(welcome)\n",
    "b()"
   ]
  },
  {
   "cell_type": "code",
   "execution_count": null,
   "metadata": {
    "id": "zCRkJHrP5NMx"
   },
   "outputs": [],
   "source": [
    "# Summary"
   ]
  },
  {
   "cell_type": "markdown",
   "metadata": {
    "id": "v2I4_MetLUYb"
   },
   "source": [
    "### Decorators\n",
    "\n",
    "A decorator in python is a function that receives another function as input and adds some functionality(decoration) to and it and returns it.\n",
    "\n",
    "This can happen only because python functions are 1st class citizens.\n",
    "\n",
    "There are 2 types of decorators available in python\n",
    "- `Built in decorators` like `@staticmethod`, `@classmethod`, `@abstractmethod` and `@property` etc\n",
    "- `User defined decorators` that we programmers can create according to our needs"
   ]
  },
  {
   "cell_type": "code",
   "execution_count": null,
   "metadata": {
    "colab": {
     "base_uri": "https://localhost:8080/"
    },
    "id": "PLEnpaeHUvAk",
    "outputId": "86fe9ab7-3533-4ed2-cd65-f96e8941df74"
   },
   "outputs": [
    {
     "data": {
      "text/plain": [
       "4"
      ]
     },
     "execution_count": 71,
     "metadata": {},
     "output_type": "execute_result"
    }
   ],
   "source": [
    "# Python are 1st class function\n",
    "\n",
    "def modify(func,num):\n",
    "  return func(num)\n",
    "\n",
    "def square(num):\n",
    "  return num**2\n",
    "\n",
    "modify(square,2)"
   ]
  },
  {
   "cell_type": "code",
   "execution_count": null,
   "metadata": {
    "colab": {
     "base_uri": "https://localhost:8080/"
    },
    "id": "fsyP9F9z5OSe",
    "outputId": "ec17ff47-2eaa-46e4-a6c7-0eb131ff488c"
   },
   "outputs": [
    {
     "name": "stdout",
     "output_type": "stream",
     "text": [
      "***********************\n",
      "hello\n",
      "***********************\n",
      "***********************\n",
      "hello nitish\n",
      "***********************\n"
     ]
    }
   ],
   "source": [
    "# simple example\n",
    "\n",
    "def my_decorator(func):\n",
    "  def wrapper():\n",
    "    print('***********************')\n",
    "    func()\n",
    "    print('***********************')\n",
    "  return wrapper\n",
    "\n",
    "def hello():\n",
    "  print('hello')\n",
    "\n",
    "def display():\n",
    "  print('hello nitish')\n",
    "\n",
    "a = my_decorator(hello)\n",
    "a()\n",
    "\n",
    "b = my_decorator(display)\n",
    "b()"
   ]
  },
  {
   "cell_type": "code",
   "execution_count": null,
   "metadata": {
    "id": "3wh7a0paP4wv"
   },
   "outputs": [],
   "source": [
    "# more functions"
   ]
  },
  {
   "cell_type": "code",
   "execution_count": null,
   "metadata": {
    "id": "3rwgdym6UyV2"
   },
   "outputs": [],
   "source": [
    "# how this works -> closure?"
   ]
  },
  {
   "cell_type": "code",
   "execution_count": 5,
   "metadata": {
    "id": "2JD6mQ7TNqRR"
   },
   "outputs": [
    {
     "name": "stdout",
     "output_type": "stream",
     "text": [
      "hello world\n"
     ]
    }
   ],
   "source": [
    "# python tutor\n",
    "def my_decorater(func):\n",
    "    def inner():\n",
    "        print(\"hello world\")\n",
    "        func()\n",
    "    return inner    \n",
    "@my_decorater\n",
    "def hello():\n",
    "    print(\"demo 2223\")\n",
    "hello()    "
   ]
  },
  {
   "cell_type": "code",
   "execution_count": 4,
   "metadata": {
    "colab": {
     "base_uri": "https://localhost:8080/"
    },
    "id": "6xenz10AVfTp",
    "outputId": "cb2e3d25-d951-49d5-ae36-62fff01bae68"
   },
   "outputs": [
    {
     "name": "stdout",
     "output_type": "stream",
     "text": [
      "***********************\n",
      "hello\n",
      "***********************\n"
     ]
    }
   ],
   "source": [
    "# Better syntax?\n",
    "# simple example\n",
    "\n",
    "def my_decorator(func):\n",
    "  def wrapper():\n",
    "    print('***********************')\n",
    "    func()\n",
    "    print('***********************')\n",
    "  return wrapper\n",
    "\n",
    "@my_decorator\n",
    "def hello():\n",
    "  print('hello')\n",
    "\n",
    "hello()"
   ]
  },
  {
   "cell_type": "code",
   "execution_count": 16,
   "metadata": {
    "colab": {
     "base_uri": "https://localhost:8080/"
    },
    "id": "JGXuT9XSP3ue",
    "outputId": "0d9ce629-0d1e-4198-b9b4-95e21486adc8"
   },
   "outputs": [
    {
     "name": "stdout",
     "output_type": "stream",
     "text": [
      "call fn is called\n",
      "the execution time is  call 0.0001914501190185547 sec\n",
      "25\n",
      "the execution time is  pow 1.239776611328125e-05 sec\n"
     ]
    }
   ],
   "source": [
    "#  identify the time of fn execution time \n",
    "import time\n",
    "def timer(func):\n",
    "   def inner(*args): \n",
    "     start=time.time()\n",
    "     func(*args)\n",
    "     print(\"the execution time is \", func.__name__,time.time()-start,\"sec\")\n",
    "   return inner\n",
    "@timer      \n",
    "def call():\n",
    "    print(\"call fn is called\")\n",
    "@timer\n",
    "def pow(a,b):\n",
    "    print(a**b)\n",
    "\n",
    "\n",
    "call()\n",
    "pow(5,2)"
   ]
  },
  {
   "cell_type": "code",
   "execution_count": null,
   "metadata": {
    "id": "tF12z0_-VG8y"
   },
   "outputs": [],
   "source": [
    "# A big problem"
   ]
  },
  {
   "cell_type": "code",
   "execution_count": null,
   "metadata": {
    "id": "WDb2Cn_PQAA9"
   },
   "outputs": [],
   "source": [
    "# One last example -> decorators with arguments\n"
   ]
  },
  {
   "cell_type": "code",
   "execution_count": null,
   "metadata": {
    "id": "Ngoztw_GQEa9"
   },
   "outputs": [],
   "source": [
    "@checkdt(int)\n",
    "def square(num):\n",
    "  print(num**2)"
   ]
  },
  {
   "cell_type": "code",
   "execution_count": 23,
   "metadata": {
    "colab": {
     "base_uri": "https://localhost:8080/"
    },
    "id": "hjjt65fYSri2",
    "outputId": "555806f0-a2b9-4f76-c5ec-6b91aaa76c34"
   },
   "outputs": [
    {
     "name": "stdout",
     "output_type": "stream",
     "text": [
      "4\n"
     ]
    }
   ],
   "source": [
    "def sanity_check(data_type):\n",
    "  def outer_wrapper(func):\n",
    "    def inner_wrapper(*args):\n",
    "      if type(*args) == data_type:\n",
    "        func(*args)\n",
    "      else:\n",
    "        raise TypeError('Ye datatype nai chalega')\n",
    "    return inner_wrapper\n",
    "  return outer_wrapper\n",
    "\n",
    "@sanity_check(int)\n",
    "def square(num):\n",
    "  print(num**2)\n",
    "\n",
    "@sanity_check(str)\n",
    "def greet(name):\n",
    "  print('hello',name)\n",
    "\n",
    "square(2)"
   ]
  },
  {
   "cell_type": "code",
   "execution_count": null,
   "metadata": {
    "id": "Xn-HNkj0TXcx"
   },
   "outputs": [],
   "source": []
  },
  {
   "cell_type": "code",
   "execution_count": null,
   "metadata": {
    "id": "FB3Uky2BStKg"
   },
   "outputs": [],
   "source": []
  }
 ],
 "metadata": {
  "colab": {
   "provenance": []
  },
  "kernelspec": {
   "display_name": "Python 3 (ipykernel)",
   "language": "python",
   "name": "python3"
  },
  "language_info": {
   "codemirror_mode": {
    "name": "ipython",
    "version": 3
   },
   "file_extension": ".py",
   "mimetype": "text/x-python",
   "name": "python",
   "nbconvert_exporter": "python",
   "pygments_lexer": "ipython3",
   "version": "3.13.0"
  }
 },
 "nbformat": 4,
 "nbformat_minor": 4
}
