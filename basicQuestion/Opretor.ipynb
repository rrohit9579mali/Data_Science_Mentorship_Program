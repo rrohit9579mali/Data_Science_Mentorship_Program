{
 "cells": [
  {
   "cell_type": "markdown",
   "id": "f0dece72-d7eb-4a44-8f6f-dbfed44085ba",
   "metadata": {},
   "source": [
    "#Operators in Python\n",
    "# Arithmetic Operators\n",
    "# Relational Operators\n",
    "# Logical Operators\n",
    "# Bitwise Operators\n",
    "# Assignment Operators\n",
    "# Membership Operators"
   ]
  },
  {
   "cell_type": "code",
   "execution_count": null,
   "id": "9273f387-19b2-4b54-bce4-62f9bda74891",
   "metadata": {},
   "outputs": [],
   "source": [
    "# Arithmetic Operators\n",
    "# *,+,/,-, 5,//,**,%\n",
    "print(5+6)\n",
    "\n",
    "print(5-6)\n",
    "\n",
    "print(5*6)\n",
    "\n",
    "print(5/2)\n",
    "\n",
    "print(5//2)\n",
    "\n",
    "print(5%2)\n",
    "\n",
    "print(5**2)\n"
   ]
  },
  {
   "cell_type": "code",
   "execution_count": null,
   "id": "23e3d125-c50f-438f-ac3f-e2676d71f7e9",
   "metadata": {},
   "outputs": [],
   "source": [
    "# Relational Operators\n",
    "# >,<,>=,<=,==,!=\n",
    "# Relational Operators\n",
    "print(4>5)\n",
    "\n",
    "print(4<5)\n",
    "\n",
    "print(4>=4)\n",
    "\n",
    "print(4<=4)\n",
    "\n",
    "print(4==4)\n",
    "\n",
    "print(4!=4)"
   ]
  },
  {
   "cell_type": "code",
   "execution_count": 8,
   "id": "1f837902-a01a-4e70-b2ec-53a8505b14f8",
   "metadata": {},
   "outputs": [
    {
     "name": "stdout",
     "output_type": "stream",
     "text": [
      "True\n",
      "True\n",
      "False\n",
      "False\n"
     ]
    }
   ],
   "source": [
    "# Logical Operators \n",
    "#  and or not \n",
    "print(2==2 and 3==3)\n",
    "print(2==2 or 3==3)\n",
    "print(2!=2 and 3==3)\n",
    "print(2==3 or 3!=3)\n"
   ]
  },
  {
   "cell_type": "code",
   "execution_count": null,
   "id": "f16caa70-7922-4e45-974f-622dd587ac8b",
   "metadata": {},
   "outputs": [],
   "source": [
    "# Bitwise Operators\n",
    "\n",
    "# bitwise and\n",
    "print(2 & 3)\n",
    "\n",
    "# bitwise or\n",
    "print(2 | 3)\n",
    "\n",
    "# bitwise xor\n",
    "print(2 ^ 3)\n",
    "\n",
    "print(~3)\n",
    "\n",
    "print(4 >> 2)\n",
    "\n",
    "print(5 << 2) "
   ]
  },
  {
   "cell_type": "code",
   "execution_count": null,
   "id": "9971f5b6-c81f-4f3b-a963-903b125e806f",
   "metadata": {},
   "outputs": [],
   "source": [
    "# Assignment Operators\n",
    "# = and Yahya sobat konta pn op laun dene \n",
    "# a = 2\n",
    "a = 2\n",
    "# a = a % 2\n",
    "a %= 2\n",
    "a+=2\n",
    "a-=2\n",
    "#like that for all arithmetic op \n",
    "# a++ ++a\n",
    "\n",
    "print(a)"
   ]
  },
  {
   "cell_type": "code",
   "execution_count": 10,
   "id": "7090c611-337d-40a0-9053-279d32ff5dbd",
   "metadata": {},
   "outputs": [
    {
     "name": "stdout",
     "output_type": "stream",
     "text": [
      "True\n",
      "False\n"
     ]
    }
   ],
   "source": [
    "# Membership Operators\n",
    "# ha op in matlb tya madhe to exist aahe ki nahi he sangto and or not in mean trya nahi he sangto \n",
    "print(1 in [1,2,3,4,5])\n",
    "print(1 not in  [1,2,3,4,5])"
   ]
  },
  {
   "cell_type": "markdown",
   "id": "c16c6e12-9a8d-4234-bda5-0d416a400b92",
   "metadata": {},
   "source": [
    " sum of input number "
   ]
  },
  {
   "cell_type": "code",
   "execution_count": 14,
   "id": "12a9e357-2fc9-4fc9-bb70-a082ba997289",
   "metadata": {},
   "outputs": [
    {
     "name": "stdin",
     "output_type": "stream",
     "text": [
      "enter the number 555\n"
     ]
    },
    {
     "name": "stdout",
     "output_type": "stream",
     "text": [
      "15\n"
     ]
    }
   ],
   "source": [
    "num=int(input(\"enter the number\"))\n",
    "a=num%10\n",
    "num=num//10\n",
    "b=num%10\n",
    "c=num%10\n",
    "print(a+b+c)"
   ]
  },
  {
   "cell_type": "code",
   "execution_count": null,
   "id": "e9ae3763-3e5c-4978-9a74-1b55df8f6e83",
   "metadata": {},
   "outputs": [],
   "source": []
  }
 ],
 "metadata": {
  "kernelspec": {
   "display_name": "Python 3 (ipykernel)",
   "language": "python",
   "name": "python3"
  },
  "language_info": {
   "codemirror_mode": {
    "name": "ipython",
    "version": 3
   },
   "file_extension": ".py",
   "mimetype": "text/x-python",
   "name": "python",
   "nbconvert_exporter": "python",
   "pygments_lexer": "ipython3",
   "version": "3.13.0"
  }
 },
 "nbformat": 4,
 "nbformat_minor": 5
}
