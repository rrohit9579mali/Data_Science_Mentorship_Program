{
 "cells": [
  {
   "cell_type": "code",
   "execution_count": 1,
   "id": "a9c1df01-ab68-486d-a830-01f7a923daa9",
   "metadata": {},
   "outputs": [
    {
     "name": "stdout",
     "output_type": "stream",
     "text": [
      "8\n",
      "8.5\n",
      "[1, 2, 3, 4]\n",
      "{'key': 'keyvalue'}\n",
      "{1, 2, 4, 5}\n",
      "(1, 2, 3, 4)\n"
     ]
    }
   ],
   "source": [
    "#integer \n",
    "print(8)\n",
    "# float \n",
    "print (8.5)\n",
    "# List \n",
    "print([1,2,3,4])\n",
    "#dicstionary\n",
    "print({'key':'keyvalue'})\n",
    "#Stes\n",
    "print({1,2,4,5})\n",
    "# tupel\n",
    "print ((1,2,3,4))"
   ]
  },
  {
   "cell_type": "code",
   "execution_count": 5,
   "id": "6198f9d5-a789-4f12-a584-16f44d6d1b37",
   "metadata": {},
   "outputs": [
    {
     "name": "stdout",
     "output_type": "stream",
     "text": [
      "5\n",
      "5\n",
      "hello\n"
     ]
    }
   ],
   "source": [
    "# dynamic typing \n",
    "a=5\n",
    "print (a)\n",
    "\n",
    "# dynamic binding \n",
    "a=5\n",
    "print(a)\n",
    "a=\"hello\"\n",
    "print (a)\n"
   ]
  },
  {
   "cell_type": "code",
   "execution_count": 1,
   "id": "562922d5-f3aa-4484-8968-de9e795118f1",
   "metadata": {},
   "outputs": [],
   "source": [
    "# # static typing \n",
    "# #int a=5;\n",
    "# print(\"error\")\n",
    "# # static binding \n",
    "# int a=5;\n",
    "# # not change the type in future \n",
    "# String a=\"hello\"\n",
    "# print(a)"
   ]
  },
  {
   "cell_type": "markdown",
   "id": "8b250645-34e3-44eb-a5eb-c8d52763385a",
   "metadata": {},
   "source": [
    "#DATA Type"
   ]
  },
  {
   "cell_type": "code",
   "execution_count": null,
   "id": "7ca6e0aa-f278-45d3-82bb-ef129237c9ba",
   "metadata": {},
   "outputs": [],
   "source": [
    "# Integer input\n",
    "a = int(input(\"Enter an integer: \"))\n",
    "print(\"You entered:\", a, \"| Type:\", type(a))\n",
    "\n",
    "# Float input\n",
    "b = float(input(\"Enter a float: \"))\n",
    "print(\"You entered:\", b, \"| Type:\", type(b))\n",
    "\n",
    "# String input\n",
    "c = input(\"Enter a string: \")\n",
    "print(\"You entered:\", c, \"| Type:\", type(c))\n",
    "\n",
    "# List input\n",
    "d = input(\"Enter elements separated by spaces (for a list): \").split()\n",
    "print(\"You entered:\", d, \"| Type:\", type(d))\n",
    "\n",
    "# Tuple input\n",
    "e = tuple(input(\"Enter elements separated by spaces (for a tuple): \").split())\n",
    "print(\"You entered:\", e, \"| Type:\", type(e))\n",
    "\n",
    "# Dictionary input\n",
    "f = eval(input(\"Enter a dictionary (e.g., {'key1': 'value1'}): \"))\n",
    "print(\"You entered:\", f, \"| Type:\", type(f))\n"
   ]
  },
  {
   "cell_type": "code",
   "execution_count": null,
   "id": "f492a7c0-dde3-49e1-a755-005c8f1c1a28",
   "metadata": {},
   "outputs": [],
   "source": []
  },
  {
   "cell_type": "code",
   "execution_count": null,
   "id": "9a2e041e-1886-46a0-9db6-c7ebcd12efed",
   "metadata": {},
   "outputs": [],
   "source": []
  }
 ],
 "metadata": {
  "kernelspec": {
   "display_name": "Python 3 (ipykernel)",
   "language": "python",
   "name": "python3"
  },
  "language_info": {
   "codemirror_mode": {
    "name": "ipython",
    "version": 3
   },
   "file_extension": ".py",
   "mimetype": "text/x-python",
   "name": "python",
   "nbconvert_exporter": "python",
   "pygments_lexer": "ipython3",
   "version": "3.13.0"
  }
 },
 "nbformat": 4,
 "nbformat_minor": 5
}
