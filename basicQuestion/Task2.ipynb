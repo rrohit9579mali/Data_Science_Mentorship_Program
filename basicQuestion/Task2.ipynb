{
 "cells": [
  {
   "cell_type": "code",
   "execution_count": 1,
   "id": "2fb9f338-6131-4575-8920-2351070896dc",
   "metadata": {},
   "outputs": [
    {
     "name": "stdin",
     "output_type": "stream",
     "text": [
      "Enter your annual CTC:  500000\n"
     ]
    },
    {
     "name": "stdout",
     "output_type": "stream",
     "text": [
      "Your annual CTC: ₹500000.0\n",
      "HRA Deduction: ₹50000.0\n",
      "DA Deduction: ₹25000.0\n",
      "PF Deduction: ₹15000.0\n",
      "Tax Deduction: ₹8000.0\n",
      "Your in-hand monthly salary: ₹33500.00\n"
     ]
    }
   ],
   "source": [
    "# Input: Annual CTC\n",
    "ctc = float(input(\"Enter your annual CTC: \"))\n",
    "\n",
    "# Deductions\n",
    "hra = 0.10 * ctc  # 10% HRA\n",
    "da = 0.05 * ctc   # 5% DA\n",
    "pf = 0.03 * ctc   # 3% PF\n",
    "\n",
    "# Tax calculation\n",
    "taxable_income = ctc - (hra + da + pf)\n",
    "\n",
    "if taxable_income <= 250000:\n",
    "    tax = 0\n",
    "elif taxable_income <= 500000:\n",
    "    tax = 0.05 * (taxable_income - 250000)\n",
    "elif taxable_income <= 1000000:\n",
    "    tax = (0.05 * 250000) + 0.20 * (taxable_income - 500000)\n",
    "else:\n",
    "    tax = (0.05 * 250000) + (0.20 * 500000) + 0.30 * (taxable_income - 1000000)\n",
    "\n",
    "# Net annual income\n",
    "net_annual_income = taxable_income - tax\n",
    "\n",
    "# Monthly in-hand salary\n",
    "monthly_in_hand = net_annual_income / 12\n",
    "\n",
    "# Output results\n",
    "print(f\"Your annual CTC: ₹{ctc}\")\n",
    "print(f\"HRA Deduction: ₹{hra}\")\n",
    "print(f\"DA Deduction: ₹{da}\")\n",
    "print(f\"PF Deduction: ₹{pf}\")\n",
    "print(f\"Tax Deduction: ₹{tax}\")\n",
    "print(f\"Your in-hand monthly salary: ₹{monthly_in_hand:.2f}\")\n"
   ]
  },
  {
   "cell_type": "code",
   "execution_count": null,
   "id": "0ac1956c-1f25-4e01-ba24-9d68bd038d33",
   "metadata": {},
   "outputs": [],
   "source": [
    "# Problem 2: Write a program that takes a user input of three angles and will find out whether it can form a triangle"
   ]
  },
  {
   "cell_type": "code",
   "execution_count": 5,
   "id": "2f20a66e-2d8d-4cb4-bba0-0f6843ef95b7",
   "metadata": {},
   "outputs": [
    {
     "name": "stdin",
     "output_type": "stream",
     "text": [
      "enter the 1st angle 60\n",
      "enter the 2nd angle 60\n",
      "enter the 3rd number 30\n"
     ]
    },
    {
     "name": "stdout",
     "output_type": "stream",
     "text": [
      "your three side is not form the tringle \n"
     ]
    }
   ],
   "source": [
    "# Write code here\n",
    "fnum =int(input(\"enter the 1st angle\"))\n",
    "snum=int(input(\"enter the 2nd angle\"))\n",
    "tnum=int(input(\"enter the 3rd number\"))\n",
    "if (fnum+snum+tnum==180):\n",
    "  print(\"it is a form the  tringle\")\n",
    "else:\n",
    " print (\"your three side sum is not form the tringle \")  "
   ]
  },
  {
   "cell_type": "code",
   "execution_count": null,
   "id": "7d281baf-0cf1-48d5-90f5-a3684ffdccc0",
   "metadata": {},
   "outputs": [],
   "source": [
    "# Problem 3: Write a program that will take user input of cost price and selling price and determines whether its a loss or a profit."
   ]
  },
  {
   "cell_type": "code",
   "execution_count": 15,
   "id": "26c86011-9398-42a4-b91c-711c20ac9da8",
   "metadata": {},
   "outputs": [
    {
     "name": "stdin",
     "output_type": "stream",
     "text": [
      "Enter the cost price:  100\n",
      "Enter the selling price:  200\n"
     ]
    },
    {
     "name": "stdout",
     "output_type": "stream",
     "text": [
      "Profit\n"
     ]
    }
   ],
   "source": [
    "cost_price = int(input(\"Enter the cost price: \"))\n",
    "selling_price = int(input(\"Enter the selling price: \"))\n",
    "\n",
    "if cost_price > selling_price:\n",
    "    print(\"Loss\")\n",
    "elif cost_price == selling_price:\n",
    "    print(\"No profit, no loss\")\n",
    "else:\n",
    "    print(\"Profit\")\n"
   ]
  },
  {
   "cell_type": "code",
   "execution_count": 16,
   "id": "e170538f-425f-4a87-9cf9-01e0770848f9",
   "metadata": {},
   "outputs": [],
   "source": [
    "# Problem 5 - Exercise 12: Display Fibonacci series up to 10 terms.\n",
    "# Note: The Fibonacci Sequence is a series of numbers. The next number is found by adding upthe two numbers before it. The first two numbers are 0 and 1. For example, 0, 1, 1, 2, 3, 5, 8, 13, 21. The next number in this series above is 13+21 = 34"
   ]
  },
  {
   "cell_type": "code",
   "execution_count": null,
   "id": "38caa7b0-4928-4b85-985b-5f379ee38f88",
   "metadata": {},
   "outputs": [],
   "source": []
  }
 ],
 "metadata": {
  "kernelspec": {
   "display_name": "Python 3 (ipykernel)",
   "language": "python",
   "name": "python3"
  },
  "language_info": {
   "codemirror_mode": {
    "name": "ipython",
    "version": 3
   },
   "file_extension": ".py",
   "mimetype": "text/x-python",
   "name": "python",
   "nbconvert_exporter": "python",
   "pygments_lexer": "ipython3",
   "version": "3.13.0"
  }
 },
 "nbformat": 4,
 "nbformat_minor": 5
}
