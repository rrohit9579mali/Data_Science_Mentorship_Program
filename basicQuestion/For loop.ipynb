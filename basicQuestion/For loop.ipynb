{
 "cells": [
  {
   "cell_type": "markdown",
   "id": "0b46d733-1603-4fc2-9db0-3a255fd0541a",
   "metadata": {},
   "source": [
    "# for loop "
   ]
  },
  {
   "cell_type": "code",
   "execution_count": 3,
   "id": "59765ea9-1218-4539-94df-389b563b42a9",
   "metadata": {},
   "outputs": [
    {
     "name": "stdout",
     "output_type": "stream",
     "text": [
      "without increment value \n",
      "1\n",
      "2\n",
      "3\n",
      "4\n",
      "5\n",
      "6\n",
      "7\n",
      "8\n",
      "9\n",
      "10\n",
      "with increment value \n",
      "1\n",
      "3\n",
      "5\n",
      "7\n",
      "9\n"
     ]
    }
   ],
   "source": [
    "# basic syntax \n",
    "print(\"without increment value \")\n",
    "for i in range(1,11):\n",
    "  print(i)\n",
    "print(\"with increment value \")\n",
    "# use the increment value in this \n",
    "for i  in range(1,11,2):\n",
    "    print(i)"
   ]
  },
  {
   "cell_type": "code",
   "execution_count": 4,
   "id": "998e3c0c-526c-4591-a8a6-da36d09be4cd",
   "metadata": {},
   "outputs": [
    {
     "name": "stdout",
     "output_type": "stream",
     "text": [
      "for odd number \n",
      "1\n",
      "3\n",
      "5\n",
      "7\n",
      "9\n",
      "11\n",
      "13\n",
      "15\n",
      "17\n",
      "19\n",
      "21\n",
      "23\n",
      "25\n",
      "27\n",
      "29\n",
      "for even number \n",
      "0\n",
      "2\n",
      "4\n",
      "6\n",
      "8\n",
      "10\n",
      "12\n",
      "14\n",
      "16\n",
      "18\n",
      "20\n",
      "22\n",
      "24\n",
      "26\n",
      "28\n"
     ]
    }
   ],
   "source": [
    "# print odd or even number \n",
    "print(\"for odd number \")\n",
    "for i in range (1,30,2):\n",
    "    print(i)\n",
    "print(\"for even number \")    \n",
    "for i in range(0,30,2):\n",
    "    print(i)"
   ]
  },
  {
   "cell_type": "markdown",
   "id": "6a40cf40-2b76-4361-bf4e-8309b23092ff",
   "metadata": {},
   "source": [
    "\n",
    "# Program - The current population of a town is 10000. The population of the town is increasing at the rate of 10% per year. You have to write a program to find out the population at the end of each of the last 10 years"
   ]
  },
  {
   "cell_type": "code",
   "execution_count": 7,
   "id": "72237ba0-524d-4375-8c07-f97f4d001f32",
   "metadata": {},
   "outputs": [
    {
     "name": "stdout",
     "output_type": "stream",
     "text": [
      "10 10000\n",
      "9 9090.90909090909\n",
      "8 8264.462809917353\n",
      "7 7513.148009015775\n",
      "6 6830.134553650703\n",
      "5 6209.213230591548\n",
      "4 5644.739300537771\n",
      "3 5131.5811823070635\n",
      "2 4665.07380209733\n",
      "1 4240.976183724845\n"
     ]
    }
   ],
   "source": [
    "curr_pop = 10000\n",
    "\n",
    "for i in range(10,0,-1):\n",
    "  print(i,curr_pop)\n",
    "  curr_pop = curr_pop/1.1\n"
   ]
  },
  {
   "cell_type": "markdown",
   "id": "9936b7ba-c117-41d1-83b7-f148dd89b186",
   "metadata": {},
   "source": [
    "# Sequence sum\n",
    "# 1/1! + 2/2! + 3/3! + ...\n"
   ]
  },
  {
   "cell_type": "code",
   "execution_count": 13,
   "id": "2319e2aa-bb82-49aa-a190-d88bc5064442",
   "metadata": {},
   "outputs": [
    {
     "name": "stdin",
     "output_type": "stream",
     "text": [
      "enter the n number 6\n"
     ]
    },
    {
     "name": "stdout",
     "output_type": "stream",
     "text": [
      "1.0\n",
      "2.0\n",
      "2.5\n",
      "2.6666666666666665\n",
      "2.708333333333333\n",
      "2.7166666666666663\n"
     ]
    }
   ],
   "source": [
    "user=int(input(\"enter the n number\"))\n",
    "result=0\n",
    "fact=1\n",
    "for i in range (1,user+1):\n",
    "    fact *=i\n",
    "    result +=i/fact\n",
    "    print (result) "
   ]
  },
  {
   "cell_type": "markdown",
   "id": "3016eb6e-10d2-4629-a5ad-63a2d1bbac40",
   "metadata": {},
   "source": [
    "# nested loop"
   ]
  },
  {
   "cell_type": "markdown",
   "id": "32e25757-93e1-4654-9c80-5cc8b62c2866",
   "metadata": {},
   "source": [
    "# # print this oattern \n",
    "# *\n",
    "# **\n",
    "# ***\n",
    "# ****\n",
    "# *****"
   ]
  },
  {
   "cell_type": "code",
   "execution_count": 39,
   "id": "5b2855a4-aaa4-4d51-a466-ca2746dd6625",
   "metadata": {},
   "outputs": [
    {
     "name": "stdin",
     "output_type": "stream",
     "text": [
      "Enter the number:  5\n"
     ]
    },
    {
     "name": "stdout",
     "output_type": "stream",
     "text": [
      "*\n",
      "**\n",
      "***\n",
      "****\n",
      "*****\n"
     ]
    }
   ],
   "source": [
    "num = int(input(\"Enter the number: \"))\n",
    "\n",
    "for i in range(1, num+1):\n",
    "    for j in range(1,i+1):\n",
    "        print(\"*\", end=\"\")  # Print stars on the same line\n",
    "    print()  # Move to the next line after each row\n"
   ]
  },
  {
   "cell_type": "code",
   "execution_count": 58,
   "id": "53536b42-231c-4666-aba4-149e63e6998a",
   "metadata": {},
   "outputs": [
    {
     "name": "stdin",
     "output_type": "stream",
     "text": [
      "enter the number  5\n"
     ]
    },
    {
     "name": "stdout",
     "output_type": "stream",
     "text": [
      "1\n",
      "121\n",
      "12321\n",
      "1234321\n",
      "123454321\n"
     ]
    }
   ],
   "source": [
    "num=int(input(\"enter the number \"))\n",
    "for i in range (1,num+1):\n",
    "    for j in range (1,i+1):\n",
    "          print (j,end=\"\")\n",
    "    for k in range (i-1,0,-1):\n",
    "        print(k,end=\"\")\n",
    "    print()    "
   ]
  },
  {
   "cell_type": "code",
   "execution_count": 65,
   "id": "44a87a45-18f9-4901-bd15-07e57d20c227",
   "metadata": {},
   "outputs": [
    {
     "name": "stdin",
     "output_type": "stream",
     "text": [
      "enter lower range 100\n",
      "enter upper range 20\n"
     ]
    },
    {
     "name": "stdout",
     "output_type": "stream",
     "text": [
      "1\n",
      "2\n",
      "3\n",
      "5\n",
      "7\n",
      "11\n",
      "13\n",
      "17\n",
      "19\n"
     ]
    }
   ],
   "source": [
    "lower = int(input('enter lower range'))\n",
    "upper = int(input('enter upper range'))\n",
    "\n",
    "for i in range(lower,upper+1):\n",
    "  for j in range(2,i):\n",
    "    if i%j == 0:\n",
    "      break\n",
    "  else:\n",
    "    print(i)"
   ]
  },
  {
   "cell_type": "code",
   "execution_count": 78,
   "id": "bfb7d769-e34d-45df-9d19-af161873d377",
   "metadata": {},
   "outputs": [
    {
     "name": "stdin",
     "output_type": "stream",
     "text": [
      "Enter a number:  15\n"
     ]
    },
    {
     "name": "stdout",
     "output_type": "stream",
     "text": [
      "1\n",
      "3\n",
      "5\n",
      "15\n"
     ]
    }
   ],
   "source": [
    "num = int(input(\"Enter a number: \"))\n",
    "for i in range(1, num + 1):  # Include `num` by using `num + 1` in the range\n",
    "    if num % i == 0:  # Check if `i` is a divisor of `num`\n",
    "        print(i)\n"
   ]
  },
  {
   "cell_type": "code",
   "execution_count": null,
   "id": "900dad4d-c3e5-4bb4-9b76-422ec491c3ed",
   "metadata": {},
   "outputs": [],
   "source": []
  }
 ],
 "metadata": {
  "kernelspec": {
   "display_name": "Python 3 (ipykernel)",
   "language": "python",
   "name": "python3"
  },
  "language_info": {
   "codemirror_mode": {
    "name": "ipython",
    "version": 3
   },
   "file_extension": ".py",
   "mimetype": "text/x-python",
   "name": "python",
   "nbconvert_exporter": "python",
   "pygments_lexer": "ipython3",
   "version": "3.13.0"
  }
 },
 "nbformat": 4,
 "nbformat_minor": 5
}
