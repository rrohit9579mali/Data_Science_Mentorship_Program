{
 "cells": [
  {
   "cell_type": "markdown",
   "id": "f6e0d28c-7ead-4d9a-b9c9-90c7ccfe8e84",
   "metadata": {},
   "source": [
    "# Basic Python"
   ]
  },
  {
   "cell_type": "code",
   "execution_count": 2,
   "id": "ee25ec16-f9c0-420c-b5c8-d11b63ab2d17",
   "metadata": {},
   "outputs": [
    {
     "name": "stdout",
     "output_type": "stream",
     "text": [
      " hello wolrld\n"
     ]
    }
   ],
   "source": [
    "print(\" hello wolrld\")"
   ]
  },
  {
   "cell_type": "code",
   "execution_count": 3,
   "id": "6bc9364e-6d44-49a2-8924-02973550eaf0",
   "metadata": {},
   "outputs": [
    {
     "name": "stdout",
     "output_type": "stream",
     "text": [
      "string/8/4.0\n"
     ]
    }
   ],
   "source": [
    "print('string',8,4.0,sep=\"/\")"
   ]
  },
  {
   "cell_type": "code",
   "execution_count": 7,
   "id": "78f3f507-0c5d-4259-a25a-01ccef199d56",
   "metadata": {},
   "outputs": [
    {
     "name": "stdout",
     "output_type": "stream",
     "text": [
      "string 7 4.6\n"
     ]
    }
   ],
   "source": [
    "print(\"string\",7,4.6,end=\"\\n\")\n"
   ]
  },
  {
   "cell_type": "code",
   "execution_count": null,
   "id": "ab97ed32-e1b4-44a3-a722-acea48f03e28",
   "metadata": {},
   "outputs": [],
   "source": []
  }
 ],
 "metadata": {
  "kernelspec": {
   "display_name": "Python 3 (ipykernel)",
   "language": "python",
   "name": "python3"
  },
  "language_info": {
   "codemirror_mode": {
    "name": "ipython",
    "version": 3
   },
   "file_extension": ".py",
   "mimetype": "text/x-python",
   "name": "python",
   "nbconvert_exporter": "python",
   "pygments_lexer": "ipython3",
   "version": "3.13.0"
  }
 },
 "nbformat": 4,
 "nbformat_minor": 5
}
