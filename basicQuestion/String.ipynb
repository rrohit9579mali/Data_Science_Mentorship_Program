{
 "cells": [
  {
   "cell_type": "markdown",
   "id": "e9017aca-925c-4f0f-879a-904a73ff992d",
   "metadata": {},
   "source": [
    "Strings are sequence of Characters\n",
    "\n",
    "In Python specifically, strings are a sequence of Unicode Characters\n",
    "\n",
    "Creating Strings,\n",
    "Accessing Strings\n",
    "Adding Chars to Strings\n",
    "Editing Strings\n",
    "Deleting Strings\n",
    "Operations on Strings\n",
    "String Functions\n",
    "Creating Stings"
   ]
  },
  {
   "cell_type": "code",
   "execution_count": 2,
   "id": "b151ae29-e8df-4602-a128-392c4deb2585",
   "metadata": {},
   "outputs": [
    {
     "name": "stdout",
     "output_type": "stream",
     "text": [
      "hello\n",
      "hello\n",
      "hello\n",
      "hello\n",
      "hello\n"
     ]
    }
   ],
   "source": [
    "s = 'hello'\n",
    "print(s)\n",
    "s = \"hello\"\n",
    "print(s)\n",
    "# multiline strings\n",
    "s = '''hello'''\n",
    "print(s)\n",
    "s = \"\"\"hello\"\"\"\n",
    "print(s)\n",
    "s = str('hello')\n",
    "print(s) "
   ]
  },
  {
   "cell_type": "code",
   "execution_count": 3,
   "id": "141835d7-5099-485f-8532-e0a191683177",
   "metadata": {},
   "outputs": [
    {
     "data": {
      "text/plain": [
       "\"it's raining outside\""
      ]
     },
     "execution_count": 3,
     "metadata": {},
     "output_type": "execute_result"
    }
   ],
   "source": [
    "# diff between ' or \" \"\n",
    "\"it's raining outside\" # eg of this diff"
   ]
  },
  {
   "cell_type": "code",
   "execution_count": 5,
   "id": "4866c668-691e-476d-87ab-e59036fbc529",
   "metadata": {},
   "outputs": [
    {
     "name": "stdout",
     "output_type": "stream",
     "text": [
      "o\n"
     ]
    }
   ],
   "source": [
    "# Positive Indexing\n",
    "s = 'hello world'\n",
    "print(s[4]) "
   ]
  },
  {
   "cell_type": "code",
   "execution_count": 6,
   "id": "8d0462f8-d1af-4738-882a-365845c36e46",
   "metadata": {},
   "outputs": [
    {
     "name": "stdout",
     "output_type": "stream",
     "text": [
      "d\n"
     ]
    }
   ],
   "source": [
    "# negaitive Indexing\n",
    "# to print the end value to start \n",
    "s = 'hello world'\n",
    "print(s[-1])"
   ]
  },
  {
   "cell_type": "code",
   "execution_count": 7,
   "id": "544e20e0-82f9-4b2a-917a-681ff1e60a22",
   "metadata": {},
   "outputs": [
    {
     "name": "stdout",
     "output_type": "stream",
     "text": [
      "hello\n"
     ]
    }
   ],
   "source": [
    "# slice method \n",
    "# use for to print the str  form start index to end endex depend on you \n",
    "s=\"hello world\"\n",
    "print(s[0:5])"
   ]
  },
  {
   "cell_type": "code",
   "execution_count": 10,
   "id": "751769c7-a2c0-4e4f-ab96-e979ecaa6d9f",
   "metadata": {},
   "outputs": [
    {
     "name": "stdout",
     "output_type": "stream",
     "text": [
      "hlow\n",
      "rwol\n"
     ]
    }
   ],
   "source": [
    "# The next step in the slicing method that mean an increment or decrement\n",
    "# both are  use negative or positive str \n",
    "s=\"hello world\"\n",
    "print(s[0:8:2]) \n",
    "print(s[8:0:-2]) "
   ]
  },
  {
   "cell_type": "code",
   "execution_count": 14,
   "id": "b97c38f1-9156-4e0e-883c-7333ec28faa4",
   "metadata": {},
   "outputs": [
    {
     "name": "stdout",
     "output_type": "stream",
     "text": [
      "dlrow olleh\n"
     ]
    }
   ],
   "source": [
    "# to rever the srting \n",
    "s=\"hello world\"\n",
    "print(s[::-1]) "
   ]
  },
  {
   "cell_type": "code",
   "execution_count": null,
   "id": "128f3299-325a-4a85-bab2-a8d31484ca82",
   "metadata": {},
   "outputs": [],
   "source": [
    "# nigative index reverse  slicing method use \n",
    "s = 'hello world'\n",
    "print(s[-1:-6:-1])"
   ]
  },
  {
   "cell_type": "code",
   "execution_count": null,
   "id": "deabb2f2-f3a4-405c-b067-9b699aa24cc4",
   "metadata": {},
   "outputs": [],
   "source": [
    "s = 'hello world'\n",
    "s[0] = 'H'\n",
    "\n",
    "# Python strings are immutable"
   ]
  },
  {
   "cell_type": "code",
   "execution_count": 16,
   "id": "04917fef-e69a-4b44-afa0-818792c68a30",
   "metadata": {},
   "outputs": [],
   "source": [
    "# delet method in py \n",
    "s = 'hello world'\n",
    "del s\n",
    "print(s)"
   ]
  },
  {
   "cell_type": "markdown",
   "id": "bd831908-877f-4adc-9eae-905cb4ce45f7",
   "metadata": {},
   "source": [
    "<!-- Operations on Strings\n",
    "Arithmetic Operations\n",
    "Relational Operations\n",
    "Logical Operations\n",
    "Loops on Strings\n",
    "Membership Operations -->"
   ]
  },
  {
   "cell_type": "code",
   "execution_count": 19,
   "id": "cde66663-68d0-46cc-9655-e0a37311de4b",
   "metadata": {},
   "outputs": [
    {
     "name": "stdout",
     "output_type": "stream",
     "text": [
      "hello wordl\n",
      "hello wordlwordlwordlwordlwordl\n"
     ]
    }
   ],
   "source": [
    "# only 2 op use for string +,*\n",
    "print(\"hello \"+\"wordl\")\n",
    "print(\"hello \"+\"wordl\"*5)# multiplying factor indicates that the number of times repeated the string \n"
   ]
  },
  {
   "cell_type": "code",
   "execution_count": 23,
   "id": "1d8b7c9a-9f13-40e0-89ec-0c6473abd0a8",
   "metadata": {},
   "outputs": [
    {
     "name": "stdout",
     "output_type": "stream",
     "text": [
      "False\n",
      "True\n",
      "False\n",
      "True\n",
      "True\n",
      "False\n"
     ]
    }
   ],
   "source": [
    "# relational op all use in str \n",
    "print (\"hello\">\"world\")\n",
    "print (\"hello\"<\"world\")\n",
    "print (\"hello\">=\"world\")\n",
    "print (\"hello\"<=\"world\")\n",
    "print (\"hello\"!=\"world\")\n",
    "print (\"hello\"==\"world\")\n",
    "# all is work based on acci value  "
   ]
  },
  {
   "cell_type": "code",
   "execution_count": 25,
   "id": "597fc5a0-3dfb-4d36-b9e8-56ba1546d610",
   "metadata": {},
   "outputs": [
    {
     "name": "stdout",
     "output_type": "stream",
     "text": [
      "world\n",
      "hello\n"
     ]
    }
   ],
   "source": [
    "# logical op this is also work based on acci value\n",
    "# empty str is false and cha in str is true \n",
    "print (\"hello\" and \"world\")\n",
    "print (\"hello\" or \"world\")"
   ]
  },
  {
   "cell_type": "code",
   "execution_count": 27,
   "id": "c007cf69-babc-4a33-b681-d923ac4734e2",
   "metadata": {},
   "outputs": [
    {
     "name": "stdout",
     "output_type": "stream",
     "text": [
      "hello world"
     ]
    }
   ],
   "source": [
    "# str work on loop not let seen\n",
    "for i in \"hello world\":\n",
    "    print(i,end=\"\")\n"
   ]
  },
  {
   "cell_type": "code",
   "execution_count": 34,
   "id": "df5716b9-fd9b-4a10-a737-79b37e25c50d",
   "metadata": {},
   "outputs": [
    {
     "data": {
      "text/plain": [
       "True"
      ]
     },
     "execution_count": 34,
     "metadata": {},
     "output_type": "execute_result"
    }
   ],
   "source": [
    "# member ship op \n",
    "\"h\" in \"hello\"\n"
   ]
  },
  {
   "cell_type": "code",
   "execution_count": 31,
   "id": "08997525-d8aa-4855-aa20-89bbfa895bd4",
   "metadata": {},
   "outputs": [
    {
     "data": {
      "text/plain": [
       "False"
      ]
     },
     "execution_count": 31,
     "metadata": {},
     "output_type": "execute_result"
    }
   ],
   "source": [
    "\"w\" in \"hello\""
   ]
  },
  {
   "cell_type": "code",
   "execution_count": 35,
   "id": "05221ec3-51e6-4d7a-9650-3c0229c64a91",
   "metadata": {},
   "outputs": [
    {
     "data": {
      "text/plain": [
       "False"
      ]
     },
     "execution_count": 35,
     "metadata": {},
     "output_type": "execute_result"
    }
   ],
   "source": [
    "\"h\" not in \"hello\""
   ]
  },
  {
   "cell_type": "markdown",
   "id": "6a084c2f-f7c7-4c52-8560-89217a983f35",
   "metadata": {},
   "source": [
    "# Common use function for all data type "
   ]
  },
  {
   "cell_type": "code",
   "execution_count": 37,
   "id": "601661b3-fd5b-4327-a942-d641640ea87f",
   "metadata": {},
   "outputs": [
    {
     "data": {
      "text/plain": [
       "11"
      ]
     },
     "execution_count": 37,
     "metadata": {},
     "output_type": "execute_result"
    }
   ],
   "source": [
    "# len, min,max,sorted\n",
    "len(\"hello world\")"
   ]
  },
  {
   "cell_type": "code",
   "execution_count": 38,
   "id": "fb211955-3162-4662-914e-6b760ec2d23f",
   "metadata": {},
   "outputs": [
    {
     "data": {
      "text/plain": [
       "'w'"
      ]
     },
     "execution_count": 38,
     "metadata": {},
     "output_type": "execute_result"
    }
   ],
   "source": [
    "max(\"hello world\")"
   ]
  },
  {
   "cell_type": "code",
   "execution_count": 39,
   "id": "31b751e2-95d0-44b9-86ef-1c37aff50591",
   "metadata": {},
   "outputs": [
    {
     "data": {
      "text/plain": [
       "' '"
      ]
     },
     "execution_count": 39,
     "metadata": {},
     "output_type": "execute_result"
    }
   ],
   "source": [
    "min(\"hello world\")"
   ]
  },
  {
   "cell_type": "code",
   "execution_count": 40,
   "id": "f7769e28-2ad2-470c-9a08-96b1584ce257",
   "metadata": {},
   "outputs": [
    {
     "data": {
      "text/plain": [
       "[' ', 'd', 'e', 'h', 'l', 'l', 'l', 'o', 'o', 'r', 'w']"
      ]
     },
     "execution_count": 40,
     "metadata": {},
     "output_type": "execute_result"
    }
   ],
   "source": [
    "sorted(\"hello world\")"
   ]
  },
  {
   "cell_type": "markdown",
   "id": "42d261b0-fc2d-4ff9-b25f-28ba357cdcd3",
   "metadata": {},
   "source": [
    "# coomon use function only for string"
   ]
  },
  {
   "cell_type": "code",
   "execution_count": 41,
   "id": "afdb70ae-db8f-4583-bb54-d6718b59e1a6",
   "metadata": {},
   "outputs": [
    {
     "data": {
      "text/plain": [
       "'Hello world'"
      ]
     },
     "execution_count": 41,
     "metadata": {},
     "output_type": "execute_result"
    }
   ],
   "source": [
    "# capitelize/upper/;ower/title/swapcase\n",
    "s=\"hello world\"\n",
    "s.capitalize()"
   ]
  },
  {
   "cell_type": "code",
   "execution_count": 43,
   "id": "be949061-9ac3-4b65-8211-0c322e73bab3",
   "metadata": {},
   "outputs": [
    {
     "data": {
      "text/plain": [
       "'Hello World Demo'"
      ]
     },
     "execution_count": 43,
     "metadata": {},
     "output_type": "execute_result"
    }
   ],
   "source": [
    "# titel\n",
    "s=\"hello world demo\"\n",
    "s.title()"
   ]
  },
  {
   "cell_type": "code",
   "execution_count": 45,
   "id": "9113a5b5-60af-49b6-8f05-f5c46e3eeb66",
   "metadata": {},
   "outputs": [
    {
     "data": {
      "text/plain": [
       "'HELLO WORLD'"
      ]
     },
     "execution_count": 45,
     "metadata": {},
     "output_type": "execute_result"
    }
   ],
   "source": [
    "# upper case \n",
    "s=\"hello world\"\n",
    "s.upper()"
   ]
  },
  {
   "cell_type": "code",
   "execution_count": 46,
   "id": "45c9012b-4f13-4c22-b14e-89c6cf36dd39",
   "metadata": {},
   "outputs": [
    {
     "data": {
      "text/plain": [
       "'hello world'"
      ]
     },
     "execution_count": 46,
     "metadata": {},
     "output_type": "execute_result"
    }
   ],
   "source": [
    "#lower case\n",
    "s=\"HELLO WORLD'\n",
    "s.lower()"
   ]
  },
  {
   "cell_type": "code",
   "execution_count": 48,
   "id": "cfdb7c81-ff53-4776-82f9-9af113998048",
   "metadata": {},
   "outputs": [
    {
     "data": {
      "text/plain": [
       "'hELLo WORLD'"
      ]
     },
     "execution_count": 48,
     "metadata": {},
     "output_type": "execute_result"
    }
   ],
   "source": [
    "# swapcase lower is converted to upper and upper into lower\n",
    "s=\"HellO world\"\n",
    "s.swapcase()"
   ]
  },
  {
   "cell_type": "markdown",
   "id": "2c6c18e8-02ac-496f-97fc-15bf8830cc32",
   "metadata": {},
   "source": [
    "# Count/Find/Index"
   ]
  },
  {
   "cell_type": "code",
   "execution_count": 52,
   "id": "09f39dbe-7b98-4ebd-9a63-b599ef2481ab",
   "metadata": {},
   "outputs": [
    {
     "data": {
      "text/plain": [
       "3"
      ]
     },
     "execution_count": 52,
     "metadata": {},
     "output_type": "execute_result"
    }
   ],
   "source": [
    "s=\"HellO world\"\n",
    "s.count(\"l\")"
   ]
  },
  {
   "cell_type": "code",
   "execution_count": 53,
   "id": "a57e5e33-facd-4396-8e23-b407de59e123",
   "metadata": {},
   "outputs": [
    {
     "data": {
      "text/plain": [
       "9"
      ]
     },
     "execution_count": 53,
     "metadata": {},
     "output_type": "execute_result"
    }
   ],
   "source": [
    "# find the position of the char str \n",
    "s=\"HellO world\"\n",
    "s.find(\"ld\")"
   ]
  },
  {
   "cell_type": "code",
   "execution_count": 55,
   "id": "2d30f114-dc37-471d-84af-2ec2690c9197",
   "metadata": {},
   "outputs": [
    {
     "data": {
      "text/plain": [
       "9"
      ]
     },
     "execution_count": 55,
     "metadata": {},
     "output_type": "execute_result"
    }
   ],
   "source": [
    "# index also finds the position but the char str does not exist throw the error but find is not throw the error this returns -1 \n",
    "s=\"HellO world\"\n",
    "s.index(\"ld\")"
   ]
  },
  {
   "cell_type": "markdown",
   "id": "a28f872a-5886-42fe-accb-ee8a6f3425f7",
   "metadata": {},
   "source": [
    " # endswith/startswith"
   ]
  },
  {
   "cell_type": "code",
   "execution_count": 56,
   "id": "2bc6f864-11a1-4315-8102-284abd0f92d8",
   "metadata": {},
   "outputs": [
    {
     "data": {
      "text/plain": [
       "True"
      ]
     },
     "execution_count": 56,
     "metadata": {},
     "output_type": "execute_result"
    }
   ],
   "source": [
    "s=\"HellO world\"\n",
    "s.endswith(\"ld\") "
   ]
  },
  {
   "cell_type": "code",
   "execution_count": 59,
   "id": "dcbb3e79-9692-4e42-85f2-5ee1f6694426",
   "metadata": {},
   "outputs": [
    {
     "data": {
      "text/plain": [
       "False"
      ]
     },
     "execution_count": 59,
     "metadata": {},
     "output_type": "execute_result"
    }
   ],
   "source": [
    "s=\"HellO world\"\n",
    "s.startswith(\"hello\")"
   ]
  },
  {
   "cell_type": "code",
   "execution_count": 64,
   "id": "51f5715d-18e4-4620-80b1-3ddc2741a4dc",
   "metadata": {},
   "outputs": [
    {
     "data": {
      "text/plain": [
       "'my name is rohit valmik mali  and my gender is male'"
      ]
     },
     "execution_count": 64,
     "metadata": {},
     "output_type": "execute_result"
    }
   ],
   "source": [
    "# format This is basicaly used for to add the multiple in place of the dependent use \n",
    "name=\"rohit valmik mali \"\n",
    "gender=\"male\"\n",
    "s=\"my name is {} and my gender is {}\"\n",
    "s.format(name,gender) "
   ]
  },
  {
   "cell_type": "code",
   "execution_count": null,
   "id": "14db0b98-835c-4ff6-8fb6-407fcf9b125e",
   "metadata": {},
   "outputs": [],
   "source": []
  }
 ],
 "metadata": {
  "kernelspec": {
   "display_name": "Python 3 (ipykernel)",
   "language": "python",
   "name": "python3"
  },
  "language_info": {
   "codemirror_mode": {
    "name": "ipython",
    "version": 3
   },
   "file_extension": ".py",
   "mimetype": "text/x-python",
   "name": "python",
   "nbconvert_exporter": "python",
   "pygments_lexer": "ipython3",
   "version": "3.13.0"
  }
 },
 "nbformat": 4,
 "nbformat_minor": 5
}
