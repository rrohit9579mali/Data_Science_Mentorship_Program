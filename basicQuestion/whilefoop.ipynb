{
 "cells": [
  {
   "cell_type": "markdown",
   "id": "7f90eaeb-7b08-40b3-9088-b8a29a00dbb9",
   "metadata": {},
   "source": [
    "#  While Loop in PY "
   ]
  },
  {
   "cell_type": "code",
   "execution_count": 8,
   "id": "0969985c-fade-4b0a-b85c-2ec3598fc70d",
   "metadata": {},
   "outputs": [
    {
     "name": "stdin",
     "output_type": "stream",
     "text": [
      "enter the number  5\n"
     ]
    },
    {
     "name": "stdout",
     "output_type": "stream",
     "text": [
      "5\n",
      "10\n",
      "15\n",
      "20\n",
      "25\n",
      "30\n",
      "35\n",
      "40\n",
      "45\n",
      "50\n"
     ]
    }
   ],
   "source": [
    "num=int(input(\"enter the number \"))\n",
    "i=1\n",
    "while i<11:\n",
    "     table =num* i\n",
    "     print(table)\n",
    "     i+=1\n",
    "    "
   ]
  },
  {
   "cell_type": "markdown",
   "id": "ca0c6b68-7c8b-481f-be41-1dd930cabeb8",
   "metadata": {},
   "source": [
    "# Guessing game "
   ]
  },
  {
   "cell_type": "code",
   "execution_count": 10,
   "id": "92eaac50-ac03-4a0e-9c2a-ba230eb2fe14",
   "metadata": {},
   "outputs": [
    {
     "name": "stdin",
     "output_type": "stream",
     "text": [
      "Guess the correct number between 1 and 100:  5\n"
     ]
    },
    {
     "name": "stdout",
     "output_type": "stream",
     "text": [
      "The number is larger than your guess. Try again.\n"
     ]
    },
    {
     "name": "stdin",
     "output_type": "stream",
     "text": [
      "Enter your new guess:  100\n"
     ]
    },
    {
     "name": "stdout",
     "output_type": "stream",
     "text": [
      "The number is smaller than your guess. Try again.\n"
     ]
    },
    {
     "name": "stdin",
     "output_type": "stream",
     "text": [
      "Enter your new guess:  60\n"
     ]
    },
    {
     "name": "stdout",
     "output_type": "stream",
     "text": [
      "The number is larger than your guess. Try again.\n"
     ]
    },
    {
     "name": "stdin",
     "output_type": "stream",
     "text": [
      "Enter your new guess:  80\n"
     ]
    },
    {
     "name": "stdout",
     "output_type": "stream",
     "text": [
      "The number is larger than your guess. Try again.\n"
     ]
    },
    {
     "name": "stdin",
     "output_type": "stream",
     "text": [
      "Enter your new guess:  90\n"
     ]
    },
    {
     "name": "stdout",
     "output_type": "stream",
     "text": [
      "The number is smaller than your guess. Try again.\n"
     ]
    },
    {
     "name": "stdin",
     "output_type": "stream",
     "text": [
      "Enter your new guess:  88\n"
     ]
    },
    {
     "name": "stdout",
     "output_type": "stream",
     "text": [
      "The number is smaller than your guess. Try again.\n"
     ]
    },
    {
     "name": "stdin",
     "output_type": "stream",
     "text": [
      "Enter your new guess:  85\n"
     ]
    },
    {
     "name": "stdout",
     "output_type": "stream",
     "text": [
      "The number is smaller than your guess. Try again.\n"
     ]
    },
    {
     "name": "stdin",
     "output_type": "stream",
     "text": [
      "Enter your new guess:  82\n"
     ]
    },
    {
     "name": "stdout",
     "output_type": "stream",
     "text": [
      "The number is larger than your guess. Try again.\n"
     ]
    },
    {
     "name": "stdin",
     "output_type": "stream",
     "text": [
      "Enter your new guess:  83\n"
     ]
    },
    {
     "name": "stdout",
     "output_type": "stream",
     "text": [
      "Congratulations! You guessed the correct number!\n"
     ]
    }
   ],
   "source": [
    "import random\n",
    "\n",
    "# Generate a random number between 1 and 100\n",
    "jackpot = random.randint(1, 100)\n",
    "\n",
    "# Input the first guess\n",
    "guess = int(input(\"Guess the correct number between 1 and 100: \"))\n",
    "\n",
    "# Loop until the correct number is guessed\n",
    "while True:\n",
    "    if guess < jackpot:\n",
    "        print(\"The number is larger than your guess. Try again.\")\n",
    "    elif guess > jackpot:\n",
    "        print(\"The number is smaller than your guess. Try again.\")\n",
    "    else:\n",
    "        print(\"Congratulations! You guessed the correct number!\")\n",
    "        break  # Exit the loop when the correct guess is made\n",
    "\n",
    "    # Take a new guess\n",
    "    guess = int(input(\"Enter your new guess: \"))\n"
   ]
  },
  {
   "cell_type": "code",
   "execution_count": null,
   "id": "7a115737-b7bf-4b16-8811-3d0994ce3db1",
   "metadata": {},
   "outputs": [],
   "source": []
  }
 ],
 "metadata": {
  "kernelspec": {
   "display_name": "Python 3 (ipykernel)",
   "language": "python",
   "name": "python3"
  },
  "language_info": {
   "codemirror_mode": {
    "name": "ipython",
    "version": 3
   },
   "file_extension": ".py",
   "mimetype": "text/x-python",
   "name": "python",
   "nbconvert_exporter": "python",
   "pygments_lexer": "ipython3",
   "version": "3.13.0"
  }
 },
 "nbformat": 4,
 "nbformat_minor": 5
}
