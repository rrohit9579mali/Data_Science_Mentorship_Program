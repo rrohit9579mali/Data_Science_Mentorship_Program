{
 "cells": [
  {
   "cell_type": "markdown",
   "id": "1e45146c-024a-4335-912e-4ef6c82ffcff",
   "metadata": {},
   "source": [
    "# login the user using static method "
   ]
  },
  {
   "cell_type": "code",
   "execution_count": 7,
   "id": "d9e778b0-e6ae-4f06-b4b4-50b093ee9c69",
   "metadata": {},
   "outputs": [
    {
     "name": "stdin",
     "output_type": "stream",
     "text": [
      "enter the email rohit@gmail.com\n",
      "enter the password1 123\n"
     ]
    },
    {
     "name": "stdout",
     "output_type": "stream",
     "text": [
      "incorrect password\n"
     ]
    },
    {
     "name": "stdin",
     "output_type": "stream",
     "text": [
      "enetr the correct password 123\n"
     ]
    },
    {
     "name": "stdout",
     "output_type": "stream",
     "text": [
      "bets tumase na ho payega \n"
     ]
    }
   ],
   "source": [
    "email=input(\"enter the email\")\n",
    "password=input(\"enter the password1\")\n",
    "if email==\"rohit@gmail.com\" and password==\"1234\" :\n",
    "    print(\"user login success\")\n",
    "elif  email==\"rohit@gmail.com\" and password!=\"1234\" :\n",
    "    print(\"incorrect password\")\n",
    "    password=input(\"enetr the correct password\")\n",
    "    if password==\"1234\":\n",
    "        print(\"successfully login \") \n",
    "    else :\n",
    "        print(\"bets tumase na ho payega \")\n",
    "else :\n",
    "    print(\"please enter the valid email either password :\")"
   ]
  },
  {
   "cell_type": "markdown",
   "id": "1d35f0ab-31bd-41ee-9bd4-38656f01811e",
   "metadata": {},
   "source": [
    "# to find the min 3 of give number "
   ]
  },
  {
   "cell_type": "code",
   "execution_count": 16,
   "id": "498ae66e-3a40-4b3e-8dd7-9945e3564f79",
   "metadata": {},
   "outputs": [
    {
     "name": "stdin",
     "output_type": "stream",
     "text": [
      "enter the number a 5\n",
      "enter the number b 4\n",
      "enter the number c 6\n"
     ]
    },
    {
     "name": "stdout",
     "output_type": "stream",
     "text": [
      "number b is mall \n"
     ]
    }
   ],
   "source": [
    "a=int(input(\"enter the number a\"))\n",
    "b=int(input(\"enter the number b\"))\n",
    "c=int(input(\"enter the number c\"))\n",
    "\n",
    "if a<b and a<c:\n",
    "    print (\"a number is small\")\n",
    "elif  b<c :\n",
    "    print(\"number b is mall \")\n",
    "else:\n",
    "    print (\"the number c is small:\")"
   ]
  },
  {
   "cell_type": "markdown",
   "id": "45193231-ed70-4df0-aa65-b85abcaf5ccd",
   "metadata": {},
   "source": [
    "# create a simple calculator "
   ]
  },
  {
   "cell_type": "code",
   "execution_count": 23,
   "id": "dd723daa-e0f6-41ba-97c9-c66a987908ad",
   "metadata": {},
   "outputs": [
    {
     "name": "stdin",
     "output_type": "stream",
     "text": [
      "enter the 1st number  5\n",
      "enter the 2nd number  8\n",
      "enter the opration  -\n"
     ]
    },
    {
     "name": "stdout",
     "output_type": "stream",
     "text": [
      "-3\n"
     ]
    }
   ],
   "source": [
    "fnum=int(input(\"enter the 1st number \"))\n",
    "snum=int(input(\"enter the 2nd number \"))\n",
    "op = input (\"enter the opration \")\n",
    "if op==\"+\":\n",
    "    print (fnum+snum)\n",
    "elif  op == \"-\":\n",
    "    print (fnum-snum)\n",
    "elif  op == \"*\":\n",
    "    print (fnum*snum)\n",
    "elif  op == \"/\":\n",
    "    print (fnum/snum)\n",
    "elif  op == \"%\":\n",
    "    print (fnum%snum)\n",
    "else:\n",
    "    print(\"incorrect opration \")"
   ]
  },
  {
   "cell_type": "markdown",
   "id": "074c87ae-0320-4218-9615-1821f6956c37",
   "metadata": {},
   "source": [
    "# menu driven calculator"
   ]
  },
  {
   "cell_type": "code",
   "execution_count": null,
   "id": "792a4eea-d888-4921-a787-13d7e0b707f3",
   "metadata": {},
   "outputs": [],
   "source": [
    "# menu driven calculator\n",
    "menu = input(\"\"\"\n",
    "Hi! how can I help you.\n",
    "1. Enter 1 for pin change\n",
    "2. Enter 2 for balance check\n",
    "3. Enter 3 for withdrawl\n",
    "4. Enter 4 for exit\n",
    "\"\"\")\n",
    "\n",
    "if menu == '1':\n",
    "  print('pin change')\n",
    "elif menu == '2':\n",
    "  print('balance')\n",
    "else:\n",
    "  print('exit')"
   ]
  },
  {
   "cell_type": "markdown",
   "id": "a82dd1d0-46cd-4d61-9e3f-334afbc9dae6",
   "metadata": {},
   "source": [
    "# Modules in Python\n",
    "1  math\n",
    "2  keywords\n",
    "3  random\n",
    "4  datetime"
   ]
  },
  {
   "cell_type": "code",
   "execution_count": 26,
   "id": "36b2f65c-e7da-4129-986e-ec7ceda15d53",
   "metadata": {},
   "outputs": [
    {
     "data": {
      "text/plain": [
       "120"
      ]
     },
     "execution_count": 26,
     "metadata": {},
     "output_type": "execute_result"
    }
   ],
   "source": [
    "import math \n",
    "math.sqrt(9)\n",
    "math.factorial(5)"
   ]
  },
  {
   "cell_type": "code",
   "execution_count": 27,
   "id": "a4ee41d6-5c74-44d4-8ea0-af232296841a",
   "metadata": {},
   "outputs": [
    {
     "name": "stdout",
     "output_type": "stream",
     "text": [
      "['False', 'None', 'True', 'and', 'as', 'assert', 'async', 'await', 'break', 'class', 'continue', 'def', 'del', 'elif', 'else', 'except', 'finally', 'for', 'from', 'global', 'if', 'import', 'in', 'is', 'lambda', 'nonlocal', 'not', 'or', 'pass', 'raise', 'return', 'try', 'while', 'with', 'yield']\n"
     ]
    }
   ],
   "source": [
    "import keyword \n",
    "print(keyword.kwlist)"
   ]
  },
  {
   "cell_type": "code",
   "execution_count": 31,
   "id": "ebb983bd-0cbf-42b1-b54b-339e763fac8f",
   "metadata": {},
   "outputs": [
    {
     "name": "stdout",
     "output_type": "stream",
     "text": [
      "2\n"
     ]
    }
   ],
   "source": [
    "# random \n",
    "import random \n",
    "print(random.randint(1,10))"
   ]
  },
  {
   "cell_type": "code",
   "execution_count": 32,
   "id": "02b8a641-bb57-4cca-90e8-6f502986aac7",
   "metadata": {},
   "outputs": [
    {
     "name": "stdout",
     "output_type": "stream",
     "text": [
      "2024-11-20 11:05:59.149124\n"
     ]
    }
   ],
   "source": [
    "# datetime\n",
    "import datetime\n",
    "print(datetime.datetime.now())"
   ]
  },
  {
   "cell_type": "code",
   "execution_count": 37,
   "id": "a83bcc8f-c738-463d-ad72-9fe2095ec6e1",
   "metadata": {},
   "outputs": [
    {
     "name": "stdout",
     "output_type": "stream",
     "text": [
      "\n",
      "Please wait a moment while I gather a list of all available modules...\n",
      "\n",
      "IPython             async_lru           linecache           stringprep\n",
      "__future__          asyncio             locale              struct\n",
      "__hello__           atexit              logging             subprocess\n",
      "__phello__          attr                lzma                symtable\n",
      "_abc                attrs               mailbox             sys\n",
      "_aix_support        autocommand         markupsafe          sysconfig\n",
      "_android_support    babel               marshal             tabnanny\n",
      "_argon2_cffi_bindings backports           math                tarfile\n",
      "_ast                base64              matplotlib_inline   tempfile\n",
      "_asyncio            bdb                 mimetypes           terminado\n",
      "_bisect             binascii            mistune             test\n",
      "_blake2             bisect              mmap                textwrap\n",
      "_bz2                bleach              mmapfile            this\n",
      "_cffi_backend       bs4                 mmsystem            threading\n",
      "_codecs             builtins            modulefinder        time\n",
      "_codecs_cn          bz2                 more_itertools      timeit\n",
      "_codecs_hk          cProfile            msvcrt              timer\n",
      "_codecs_iso2022     calendar            multiprocessing     tinycss2\n",
      "_codecs_jp          certifi             nbclient            tkinter\n",
      "_codecs_kr          cffi                nbconvert           token\n",
      "_codecs_tw          charset_normalizer  nbformat            tokenize\n",
      "_collections        cmath               nest_asyncio        tomli\n",
      "_collections_abc    cmd                 netbios             tomllib\n",
      "_colorize           code                netrc               tornado\n",
      "_compat_pickle      codecs              notebook            trace\n",
      "_compression        codeop              notebook_shim       traceback\n",
      "_contextvars        collections         nt                  tracemalloc\n",
      "_csv                colorama            ntpath              traitlets\n",
      "_ctypes             colorsys            ntsecuritycon       tty\n",
      "_ctypes_test        comm                nturl2path          turtle\n",
      "_datetime           commctrl            numbers             turtledemo\n",
      "_decimal            compileall          odbc                typeguard\n",
      "_distutils_hack     concurrent          opcode              types\n",
      "_elementtree        configparser        operator            typing\n",
      "_functools          contextlib          optparse            typing_extensions\n",
      "_hashlib            contextvars         os                  unicodedata\n",
      "_heapq              copy                overrides           unittest\n",
      "_imp                copyreg             packaging           uri_template\n",
      "_interpchannels     csv                 pandocfilters       urllib\n",
      "_interpqueues       ctypes              parso               urllib3\n",
      "_interpreters       curses              pathlib             uuid\n",
      "_io                 dataclasses         pdb                 venv\n",
      "_ios_support        datetime            perfmon             warnings\n",
      "_json               dateutil            pickle              wave\n",
      "_locale             dbm                 pickletools         wcwidth\n",
      "_lsprof             dde                 pip                 weakref\n",
      "_lzma               debugpy             pkg_resources       webbrowser\n",
      "_markupbase         decimal             pkgutil             webcolors\n",
      "_md5                decorator           platform            webencodings\n",
      "_multibytecodec     defusedxml          platformdirs        websocket\n",
      "_multiprocessing    difflib             plistlib            wheel\n",
      "_opcode             dis                 poplib              widgetsnbextension\n",
      "_opcode_metadata    doctest             posixpath           win2kras\n",
      "_operator           email               pprint              win32api\n",
      "_osx_support        encodings           profile             win32clipboard\n",
      "_overlapped         ensurepip           prometheus_client   win32com\n",
      "_pickle             enum                prompt_toolkit      win32con\n",
      "_py_abc             errno               pstats              win32console\n",
      "_pydatetime         executing           psutil              win32cred\n",
      "_pydecimal          fastjsonschema      pty                 win32crypt\n",
      "_pyio               faulthandler        pure_eval           win32cryptcon\n",
      "_pylong             filecmp             py_compile          win32event\n",
      "_pyrepl             fileinput           pyclbr              win32evtlog\n",
      "_queue              fnmatch             pycparser           win32evtlogutil\n",
      "_random             fqdn                pydoc               win32file\n",
      "_sha1               fractions           pydoc_data          win32gui\n",
      "_sha2               ftplib              pyexpat             win32gui_struct\n",
      "_sha3               functools           pygments            win32help\n",
      "_signal             gc                  pythoncom           win32inet\n",
      "_sitebuiltins       genericpath         pythonjsonlogger    win32inetcon\n",
      "_socket             getopt              pywin               win32job\n",
      "_sqlite3            getpass             pywin32_bootstrap   win32lz\n",
      "_sre                gettext             pywin32_testutil    win32net\n",
      "_ssl                glob                pywintypes          win32netcon\n",
      "_stat               graphlib            queue               win32pdh\n",
      "_statistics         gzip                quopri              win32pdhquery\n",
      "_string             h11                 random              win32pdhutil\n",
      "_strptime           hashlib             rasutil             win32pipe\n",
      "_struct             heapq               re                  win32print\n",
      "_symtable           hmac                referencing         win32process\n",
      "_sysconfig          html                regcheck            win32profile\n",
      "_testbuffer         http                regutil             win32ras\n",
      "_testcapi           httpcore            reprlib             win32rcparser\n",
      "_testclinic         httpx               requests            win32security\n",
      "_testclinic_limited idlelib             rfc3339_validator   win32service\n",
      "_testconsole        idna                rfc3986_validator   win32serviceutil\n",
      "_testimportmultiple imaplib             rlcompleter         win32timezone\n",
      "_testinternalcapi   importlib           rpds                win32trace\n",
      "_testlimitedcapi    importlib_metadata  runpy               win32traceutil\n",
      "_testmultiphase     inflect             sched               win32transaction\n",
      "_testsinglephase    inspect             secrets             win32ts\n",
      "_thread             io                  select              win32ui\n",
      "_threading_local    ipaddress           selectors           win32uiole\n",
      "_tkinter            ipykernel           send2trash          win32verstamp\n",
      "_tokenize           ipykernel_launcher  servicemanager      win32wnet\n",
      "_tracemalloc        ipywidgets          setuptools          winerror\n",
      "_typing             isapi               shelve              winioctlcon\n",
      "_uuid               isoduration         shlex               winnt\n",
      "_warnings           itertools           shutil              winperf\n",
      "_weakref            jedi                signal              winpty\n",
      "_weakrefset         jinja2              site                winreg\n",
      "_win32sysloader     json                six                 winsound\n",
      "_win32verstamp_pywin32ctypes json5               smtplib             winxpgui\n",
      "_winapi             jsonpointer         sniffio             winxptheme\n",
      "_winxptheme         jsonschema          socket              wsgiref\n",
      "_wmi                jsonschema_specifications socketserver        xml\n",
      "_yaml               jupyter             soupsieve           xmlrpc\n",
      "_zoneinfo           jupyter_client      sqlite3             xxsubtype\n",
      "abc                 jupyter_console     sre_compile         yaml\n",
      "adodbapi            jupyter_core        sre_constants       zipapp\n",
      "afxres              jupyter_events      sre_parse           zipfile\n",
      "antigravity         jupyter_lsp         ssl                 zipimport\n",
      "anyio               jupyter_server      sspi                zipp\n",
      "argon2              jupyter_server_terminals sspicon             zlib\n",
      "argparse            jupyterlab          stack_data          zmq\n",
      "array               jupyterlab_pygments start_pythonwin     zoneinfo\n",
      "arrow               jupyterlab_server   stat                \n",
      "ast                 jupyterlab_widgets  statistics          \n",
      "asttokens           keyword             string              \n",
      "\n",
      "Enter any module name to get more help.  Or, type \"modules spam\" to search\n",
      "for modules whose name or summary contain the string \"spam\".\n",
      "\n"
     ]
    }
   ],
   "source": [
    "help('modules')"
   ]
  },
  {
   "cell_type": "code",
   "execution_count": null,
   "id": "d74fba63-112b-47f1-8cae-d59f01f552a8",
   "metadata": {},
   "outputs": [],
   "source": []
  }
 ],
 "metadata": {
  "kernelspec": {
   "display_name": "Python 3 (ipykernel)",
   "language": "python",
   "name": "python3"
  },
  "language_info": {
   "codemirror_mode": {
    "name": "ipython",
    "version": 3
   },
   "file_extension": ".py",
   "mimetype": "text/x-python",
   "name": "python",
   "nbconvert_exporter": "python",
   "pygments_lexer": "ipython3",
   "version": "3.13.0"
  }
 },
 "nbformat": 4,
 "nbformat_minor": 5
}
