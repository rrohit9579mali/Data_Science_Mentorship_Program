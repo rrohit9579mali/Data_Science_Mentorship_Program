{
 "cells": [
  {
   "cell_type": "code",
   "execution_count": 10,
   "id": "8bc37268-5062-485f-b3c6-5b02917c7083",
   "metadata": {},
   "outputs": [
    {
     "name": "stdin",
     "output_type": "stream",
     "text": [
      "enter the string demo\n"
     ]
    },
    {
     "name": "stdout",
     "output_type": "stream",
     "text": [
      "4\n"
     ]
    }
   ],
   "source": [
    "# find the length of a given string without using the len function \n",
    "lenstr=str(input(\"enter the string\"))\n",
    "length=0\n",
    "for i in lenstr:\n",
    "    length +=1\n",
    "print(length)    "
   ]
  },
  {
   "cell_type": "code",
   "execution_count": 14,
   "id": "ef484fd8-8ec0-4eba-8321-4a91d50520ba",
   "metadata": {},
   "outputs": [
    {
     "name": "stdin",
     "output_type": "stream",
     "text": [
      "enter the string rohit9486129@gmail.com\n"
     ]
    },
    {
     "name": "stdout",
     "output_type": "stream",
     "text": [
      "rohit9486129\n"
     ]
    }
   ],
   "source": [
    "# extract the username from give  email \n",
    "# email is rm9486129@gmail.com\n",
    "# the user name should be rm9486129\n",
    "lenstr=str(input(\"enter the string\"))\n",
    "position=lenstr.index(\"@\")\n",
    "print(lenstr[0:position])\n"
   ]
  },
  {
   "cell_type": "code",
   "execution_count": 21,
   "id": "e1adfd51-a372-4147-bb69-8b32c7a1273f",
   "metadata": {},
   "outputs": [
    {
     "name": "stdin",
     "output_type": "stream",
     "text": [
      "enter the string  mali\n",
      "enter the string l\n"
     ]
    },
    {
     "name": "stdout",
     "output_type": "stream",
     "text": [
      "1\n"
     ]
    }
   ],
   "source": [
    "# cout the frequancy to provied the perticular string \n",
    "# \"hello i am a string\" so i is how many time reapeated prit the repeate value of the char \n",
    "string=input(\"enter the string \")\n",
    "term =input(\"enter the string\")\n",
    "\n",
    "counter=0\n",
    "for i in string:\n",
    "    if i==term:\n",
    "        counter+=1\n",
    "print(counter)        \n",
    "        \n"
   ]
  },
  {
   "cell_type": "code",
   "execution_count": 22,
   "id": "8efad0c2-2591-478e-9634-93da4bbc0c0d",
   "metadata": {},
   "outputs": [
    {
     "name": "stdin",
     "output_type": "stream",
     "text": [
      "enter the string  rohitmali\n",
      "enter the string i\n"
     ]
    },
    {
     "name": "stdout",
     "output_type": "stream",
     "text": [
      "rohtmal\n"
     ]
    }
   ],
   "source": [
    "# wap to remove the particular element is a string \n",
    "string=input(\"enter the string \")\n",
    "term =input(\"enter the string\") \n",
    "\n",
    "result=''\n",
    "for i in string:\n",
    "    if i!=term:\n",
    "        result+=i\n",
    "print(result)        \n"
   ]
  },
  {
   "cell_type": "code",
   "execution_count": 23,
   "id": "8a483f93-1991-4679-a51b-e16c6fe4e25b",
   "metadata": {},
   "outputs": [
    {
     "name": "stdin",
     "output_type": "stream",
     "text": [
      "enter the string babab\n"
     ]
    },
    {
     "name": "stdout",
     "output_type": "stream",
     "text": [
      "Palindrome\n"
     ]
    }
   ],
   "source": [
    "# Write a program that can check whether a given string is palindrome or not.\n",
    "# abba\n",
    "# malayalam\n",
    "\n",
    "s = input('enter the string')\n",
    "flag = True\n",
    "for i in range(0,len(s)//2):\n",
    "  if s[i] != s[len(s) - i -1]:\n",
    "    flag = False\n",
    "    print('Not a Palindrome')\n",
    "    break\n",
    "\n",
    "if flag:\n",
    "  print('Palindrome')\n"
   ]
  },
  {
   "cell_type": "code",
   "execution_count": 31,
   "id": "850eb8f7-6497-4986-88ea-ed71280c2f21",
   "metadata": {},
   "outputs": [
    {
     "name": "stdin",
     "output_type": "stream",
     "text": [
      "enter the string rohit vamik mali\n"
     ]
    },
    {
     "ename": "TypeError",
     "evalue": "'builtin_function_or_method' object is not iterable",
     "output_type": "error",
     "traceback": [
      "\u001b[1;31m---------------------------------------------------------------------------\u001b[0m",
      "\u001b[1;31mTypeError\u001b[0m                                 Traceback (most recent call last)",
      "Cell \u001b[1;32mIn[31], line 5\u001b[0m\n\u001b[0;32m      3\u001b[0m s \u001b[38;5;241m=\u001b[39m \u001b[38;5;28minput\u001b[39m(\u001b[38;5;124m'\u001b[39m\u001b[38;5;124menter the string\u001b[39m\u001b[38;5;124m'\u001b[39m)\n\u001b[0;32m      4\u001b[0m count\u001b[38;5;241m=\u001b[39m\u001b[38;5;241m0\u001b[39m\n\u001b[1;32m----> 5\u001b[0m \u001b[38;5;28;43;01mfor\u001b[39;49;00m\u001b[43m \u001b[49m\u001b[43mi\u001b[49m\u001b[43m \u001b[49m\u001b[38;5;129;43;01min\u001b[39;49;00m\u001b[43m \u001b[49m\u001b[43ms\u001b[49m\u001b[38;5;241;43m.\u001b[39;49m\u001b[43msplit\u001b[49m\u001b[43m:\u001b[49m\n\u001b[0;32m      6\u001b[0m \u001b[43m    \u001b[49m\u001b[43mcount\u001b[49m\u001b[38;5;241;43m+\u001b[39;49m\u001b[38;5;241;43m=\u001b[39;49m\u001b[38;5;241;43m1\u001b[39;49m\n\u001b[0;32m      7\u001b[0m \u001b[38;5;28mprint\u001b[39m (count)    \n",
      "\u001b[1;31mTypeError\u001b[0m: 'builtin_function_or_method' object is not iterable"
     ]
    }
   ],
   "source": [
    "# count the number of words in the string \n",
    "\n",
    "s = input('enter the string')\n",
    "count=0\n",
    "for i in s:\n",
    "    count+=1\n",
    "print (count)    "
   ]
  },
  {
   "cell_type": "code",
   "execution_count": 33,
   "id": "e3ffe0b0-fa5c-4574-a90e-acf6231a17da",
   "metadata": {},
   "outputs": [
    {
     "name": "stdin",
     "output_type": "stream",
     "text": [
      "enter the string rohit valmik mali\n"
     ]
    },
    {
     "name": "stdout",
     "output_type": "stream",
     "text": [
      "['Rohit', 'Valmik', 'Mali']\n"
     ]
    }
   ],
   "source": [
    "# wap to print the str in the form of a title but not use the title \n",
    "s = input('enter the string')\n",
    "l=[]\n",
    "for i in s.split():\n",
    "        l.append(i[0].upper()+i[1:].lower())\n",
    "print(l)    "
   ]
  },
  {
   "cell_type": "code",
   "execution_count": 34,
   "id": "0a9c4259-b7e2-4232-a61c-f85e2ba9b9e8",
   "metadata": {},
   "outputs": [
    {
     "name": "stdin",
     "output_type": "stream",
     "text": [
      "enter the number 5555654\n"
     ]
    },
    {
     "name": "stdout",
     "output_type": "stream",
     "text": [
      "5555654\n",
      "<class 'str'>\n"
     ]
    }
   ],
   "source": [
    "# Write a program that can convert an integer to string.\n",
    "\n",
    "number = int(input('enter the number'))\n",
    "\n",
    "digits = '0123456789'\n",
    "result = ''\n",
    "while number != 0:\n",
    "  result = digits[number % 10] + result\n",
    "  number = number//10\n",
    "\n",
    "print(result)\n",
    "print(type(result))"
   ]
  },
  {
   "cell_type": "code",
   "execution_count": null,
   "id": "ab7a53ee-d6eb-48a1-8257-bc5661e49e1d",
   "metadata": {},
   "outputs": [],
   "source": []
  }
 ],
 "metadata": {
  "kernelspec": {
   "display_name": "Python 3 (ipykernel)",
   "language": "python",
   "name": "python3"
  },
  "language_info": {
   "codemirror_mode": {
    "name": "ipython",
    "version": 3
   },
   "file_extension": ".py",
   "mimetype": "text/x-python",
   "name": "python",
   "nbconvert_exporter": "python",
   "pygments_lexer": "ipython3",
   "version": "3.13.0"
  }
 },
 "nbformat": 4,
 "nbformat_minor": 5
}
