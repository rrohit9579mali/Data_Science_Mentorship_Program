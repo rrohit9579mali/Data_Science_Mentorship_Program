{
 "cells": [
  {
   "cell_type": "code",
   "execution_count": 5,
   "id": "c51c22e2-2cf6-4ddf-8f8d-1bcfc4f3ca15",
   "metadata": {},
   "outputs": [
    {
     "name": "stdout",
     "output_type": "stream",
     "text": [
      "2\n",
      "4\n",
      "8\n"
     ]
    }
   ],
   "source": [
    "#  create args fn \n",
    "#  to gte a n number of input \n",
    "def ieven(*ar):\n",
    "    for i in ar:\n",
    "        if(i%2==0):\n",
    "            print(i)\n",
    "# ieven(10,20,30,49,40,50,80,60,50,465,42,64,2165,4,55,451221,4) \n",
    "ieven(1,2,4,5,5,8,5)"
   ]
  },
  {
   "cell_type": "code",
   "execution_count": 15,
   "id": "7092ed57-c104-4c11-96e9-3d20e8b296d3",
   "metadata": {},
   "outputs": [],
   "source": [
    "#  **kw args mean paramaeter dictionary chya forme madhe ghet \n",
    "def display(**kwargs):\n",
    "    for (key,value) in kwargs.items():\n",
    "        print(key,\"->\",value)"
   ]
  },
  {
   "cell_type": "code",
   "execution_count": 16,
   "id": "abc83e8a-0cdf-459c-8d5b-8e03ce7c9e54",
   "metadata": {},
   "outputs": [
    {
     "name": "stdout",
     "output_type": "stream",
     "text": [
      "india -> rohit sharma\n",
      "pakistan -> mohammad sahi\n",
      "japan -> kokou\n"
     ]
    }
   ],
   "source": [
    "display(india=\"rohit sharma\" ,pakistan=\"mohammad sahi\",japan=\"kokou\")"
   ]
  },
  {
   "cell_type": "code",
   "execution_count": null,
   "id": "9689efc4-6de8-4f01-be1a-24e2f59a597e",
   "metadata": {},
   "outputs": [],
   "source": []
  }
 ],
 "metadata": {
  "kernelspec": {
   "display_name": "Python 3 (ipykernel)",
   "language": "python",
   "name": "python3"
  },
  "language_info": {
   "codemirror_mode": {
    "name": "ipython",
    "version": 3
   },
   "file_extension": ".py",
   "mimetype": "text/x-python",
   "name": "python",
   "nbconvert_exporter": "python",
   "pygments_lexer": "ipython3",
   "version": "3.13.0"
  }
 },
 "nbformat": 4,
 "nbformat_minor": 5
}
