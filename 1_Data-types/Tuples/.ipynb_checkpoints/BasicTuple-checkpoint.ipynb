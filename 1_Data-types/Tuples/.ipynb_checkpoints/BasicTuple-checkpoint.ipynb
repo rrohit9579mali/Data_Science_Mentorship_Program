{
 "cells": [
  {
   "cell_type": "markdown",
   "id": "a5ad2f3b-ecd9-4555-8c22-d24385bc0c40",
   "metadata": {},
   "source": [
    "#  Basic tuple"
   ]
  },
  {
   "cell_type": "code",
   "execution_count": 28,
   "id": "5429f1db-a526-4c83-a194-496546c9bf31",
   "metadata": {},
   "outputs": [
    {
     "name": "stdout",
     "output_type": "stream",
     "text": [
      "()\n",
      "(1,) <class 'tuple'>\n",
      "(1, 2, 3, 4)\n",
      "(1, 5.0, 3.1, 'hello') <class 'tuple'>\n",
      "(1, 2, 3, (4, 5))\n",
      "('1', '2')\n"
     ]
    }
   ],
   "source": [
    "# How to create a tuple\n",
    "t=()\n",
    "print(t)\n",
    "\n",
    "#  single tuple\n",
    "t1=(1,)\n",
    "print(t1,type(t1))\n",
    "\n",
    "#  Homogenous tuple\n",
    "\n",
    "t2=(1,2,3,4)\n",
    "print(t2)\n",
    "\n",
    "#  heterogeneous tuple\n",
    "t3=(1,5.0,3.1,'hello')\n",
    "print(t3,type(t3))\n",
    "\n",
    "#  nested tuple \n",
    "\n",
    "t4=(1,2,3,(4,5))\n",
    "print(t4)\n",
    "\n",
    "#  type conversion \n",
    "t5=tuple('12')\n",
    "print(t5)"
   ]
  },
  {
   "cell_type": "code",
   "execution_count": 20,
   "id": "d90319d7-ec94-42cc-9dc9-af632d82e6a0",
   "metadata": {},
   "outputs": [
    {
     "name": "stdout",
     "output_type": "stream",
     "text": [
      "(1, 2, 3, 4, 5, (6, 4, 6, (8, 0, 5)))\n",
      "5\n",
      "hello\n",
      "((6, 4, 6, (8, 0, 5)), 5, 4, 3, 2, 1)\n"
     ]
    }
   ],
   "source": [
    "# How to access an item in a tuple using idx, slicing\n",
    "\n",
    "m=(1,2,3,4,5,(6,4,6,(8,0,5)))\n",
    "print(m)\n",
    "print(m[5][3][2])\n",
    "print(t3[-1])\n",
    "print(m[::-1])"
   ]
  },
  {
   "cell_type": "code",
   "execution_count": 30,
   "id": "71ff974e-1cdd-402b-9629-aca99987844f",
   "metadata": {},
   "outputs": [],
   "source": [
    "#  delation in tuple \n",
    "# print(t3)\n",
    "# del t3\n",
    "# print(t3)"
   ]
  },
  {
   "cell_type": "code",
   "execution_count": 26,
   "id": "b951d55e-65bb-4441-b002-b85ca94b1ed5",
   "metadata": {},
   "outputs": [
    {
     "name": "stdout",
     "output_type": "stream",
     "text": [
      "(1, 2, 3, 4)\n"
     ]
    },
    {
     "data": {
      "text/plain": [
       "(4, 3, 2)"
      ]
     },
     "execution_count": 26,
     "metadata": {},
     "output_type": "execute_result"
    }
   ],
   "source": [
    "print(t2)\n",
    "\n",
    "t2[-1:-4:-1]"
   ]
  },
  {
   "cell_type": "code",
   "execution_count": 40,
   "id": "876d7663-ac12-4976-aa33-f23562d53006",
   "metadata": {},
   "outputs": [
    {
     "name": "stdout",
     "output_type": "stream",
     "text": [
      "(1, 5.0, 3.1, 'hello')\n",
      "(1, 5.0, 3.1, 'hello', '1', '2')\n",
      "(1, 5.0, 3.1, 'hello', 1, 5.0, 3.1, 'hello', 1, 5.0, 3.1, 'hello', 1, 5.0, 3.1, 'hello', 1, 5.0, 3.1, 'hello')\n",
      "True\n",
      "False\n",
      "2\n",
      "10.0\n",
      "6.2\n",
      "hellohello\n",
      "4\n"
     ]
    }
   ],
   "source": [
    "#  operation in tuple \n",
    "print(t3)\n",
    "\n",
    "print(t3+t5)\n",
    "\n",
    "print(t3*5)\n",
    "#  membership op in \n",
    "print(1 in t3)\n",
    "#  not in \n",
    "print(1 not in t3)\n",
    "\n",
    "#  loop in tuple\n",
    "for i in t3:\n",
    "    print(i*2)"
   ]
  },
  {
   "cell_type": "code",
   "execution_count": 58,
   "id": "1c4bd8a7-7abb-46d3-b9a7-2b7bd8f7ff81",
   "metadata": {},
   "outputs": [
    {
     "name": "stdout",
     "output_type": "stream",
     "text": [
      "(145, 256, 88, 25, 45)\n",
      "5\n",
      "256\n",
      "559\n",
      "25\n",
      "[25, 45, 88, 145, 256]\n",
      "[]\n",
      "1\n"
     ]
    }
   ],
   "source": [
    "#  function in tuple \n",
    "T=(145,256,88,25,45)\n",
    "print (T)\n",
    "print(len(T))\n",
    "print(max(T))\n",
    "print(sum(T))\n",
    "print(min(T))\n",
    "print(sorted(T))\n",
    "print(sorted(t,reverse=True))\n",
    "\n",
    "print(T.count(25))\n",
    "\n"
   ]
  },
  {
   "cell_type": "code",
   "execution_count": 59,
   "id": "eff3ad26-7554-4e79-b560-e8470fb673a9",
   "metadata": {},
   "outputs": [
    {
     "name": "stdout",
     "output_type": "stream",
     "text": [
      "1 2 3\n"
     ]
    }
   ],
   "source": [
    "#  unpaking tuple \n",
    "a,b,c=(1,2,3)\n",
    "print(a,b,c)\n",
    "\n",
    "a,b=(1,2,3)"
   ]
  },
  {
   "cell_type": "code",
   "execution_count": null,
   "id": "ceab7802-93ea-4fe8-a870-d010286457c1",
   "metadata": {},
   "outputs": [],
   "source": []
  }
 ],
 "metadata": {
  "kernelspec": {
   "display_name": "Python 3 (ipykernel)",
   "language": "python",
   "name": "python3"
  },
  "language_info": {
   "codemirror_mode": {
    "name": "ipython",
    "version": 3
   },
   "file_extension": ".py",
   "mimetype": "text/x-python",
   "name": "python",
   "nbconvert_exporter": "python",
   "pygments_lexer": "ipython3",
   "version": "3.13.0"
  }
 },
 "nbformat": 4,
 "nbformat_minor": 5
}
