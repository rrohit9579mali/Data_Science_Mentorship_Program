{
 "cells": [
  {
   "cell_type": "code",
   "execution_count": 2,
   "id": "e9d87e9f-3a43-46ff-bed3-66cab6f7aab5",
   "metadata": {},
   "outputs": [
    {
     "name": "stdout",
     "output_type": "stream",
     "text": [
      "set()\n",
      "<class 'set'>\n"
     ]
    }
   ],
   "source": [
    "#  set \n",
    "s=set({})\n",
    "print(s)\n",
    "print(type(s))"
   ]
  },
  {
   "cell_type": "code",
   "execution_count": 12,
   "id": "e2444ef5-1d8b-4ce0-afb9-e49d7c1c5298",
   "metadata": {},
   "outputs": [
    {
     "name": "stdout",
     "output_type": "stream",
     "text": [
      "<class 'set'> {1, 2, 3, 4, 5, 6}\n"
     ]
    }
   ],
   "source": [
    "s={1,2,3,4,5,6,1}\n",
    "print(type(s),s)"
   ]
  },
  {
   "cell_type": "code",
   "execution_count": 17,
   "id": "d089cedb-5523-41f2-8c85-8a53cb3c10ea",
   "metadata": {},
   "outputs": [
    {
     "name": "stdout",
     "output_type": "stream",
     "text": [
      "{3, 4, 5}\n",
      "{3, 4, 5}\n",
      "{4, 5}\n",
      "set()\n"
     ]
    }
   ],
   "source": [
    "#  Delating  in set \n",
    "print(s)\n",
    "# del s\n",
    "s.discard(6)\n",
    "print(s)\n",
    "s.pop()\n",
    "print(s)\n",
    "s.clear()\n",
    "print(s)"
   ]
  },
  {
   "cell_type": "code",
   "execution_count": 24,
   "id": "c9265892-4587-4b86-bcf0-41a975bc74a0",
   "metadata": {},
   "outputs": [
    {
     "data": {
      "text/plain": [
       "{2, 3, 5, 7, 8, 9}"
      ]
     },
     "execution_count": 24,
     "metadata": {},
     "output_type": "execute_result"
    }
   ],
   "source": [
    "#  function in set \n",
    "#  union\n",
    "\n",
    "s1={1,2,3,4,5}\n",
    "s2={1,4,7,8,9}\n",
    "s1 | s2 \n",
    "# intersection \n",
    "s1 & s2\n",
    " # difference \n",
    "s1-s2\n",
    "# symentryc diff\n",
    "s1^s2\n"
   ]
  },
  {
   "cell_type": "code",
   "execution_count": 46,
   "id": "4f1c0dd0-f006-4d94-9088-6d0ddd87bdbf",
   "metadata": {},
   "outputs": [
    {
     "name": "stdout",
     "output_type": "stream",
     "text": [
      "s1 is =  set() s2 is = {1, 4, 7, 8, 9}\n",
      "s1 is =  {1, 4, 8, 7, 9} s2 is = {1, 4, 7, 8, 9}\n",
      "instersection\n",
      "s1 is =  {1, 4, 8, 7, 9} s2 is = {1, 4, 7, 8, 9}\n",
      "defference\n",
      "s1 is =  {1, 4, 7, 8, 9} s2 is = {1, 4, 7, 8, 9}\n",
      "Symetric diff\n"
     ]
    },
    {
     "data": {
      "text/plain": [
       "{1, 4, 7, 8, 9}"
      ]
     },
     "execution_count": 46,
     "metadata": {},
     "output_type": "execute_result"
    }
   ],
   "source": [
    "#  in the form of function \n",
    "s1.union(s2)\n",
    "print(\"s1 is = \",s1,\"s2 is =\",s2)\n",
    "s1.update (s2)\n",
    "print(\"s1 is = \",s1,\"s2 is =\",s2)\n",
    "\n",
    "s1.intersection(s2)\n",
    "print(\"instersection\")\n",
    "print(\"s1 is = \",s1,\"s2 is =\",s2)\n",
    "\n",
    "s1.intersection_update(s2)\n",
    "print(\"defference\")\n",
    "s1.difference(s2)\n",
    "\n",
    "print(\"s1 is = \",s1,\"s2 is =\",s2)\n",
    "s1.difference_update(s2)\n",
    "\n",
    "print(\"Symetric diff\")\n",
    "s1.symmetric_difference(s2)\n",
    "print(\"s1 is = \",s1,\"s2 is =\",s2)\n"
   ]
  },
  {
   "cell_type": "code",
   "execution_count": 14,
   "id": "315982a1-122c-4222-8cee-f9d89528bebe",
   "metadata": {},
   "outputs": [
    {
     "data": {
      "text/plain": [
       "-2"
      ]
     },
     "execution_count": 14,
     "metadata": {},
     "output_type": "execute_result"
    }
   ],
   "source": [
    "s={5, 798, -2, 5, 6}\n",
    "s.pop()"
   ]
  },
  {
   "cell_type": "code",
   "execution_count": 27,
   "id": "cf4b0c21-f49d-4ba7-add8-09088a91e2a5",
   "metadata": {},
   "outputs": [
    {
     "data": {
      "text/plain": [
       "[5, 4, 3, 2, 1]"
      ]
     },
     "execution_count": 27,
     "metadata": {},
     "output_type": "execute_result"
    }
   ],
   "source": [
    "#  builting funtion \n",
    "len(s1)\n",
    "min(s1)\n",
    "max(s1)\n",
    "sorted(s1,reverse=True)\n"
   ]
  },
  {
   "cell_type": "code",
   "execution_count": 54,
   "id": "caf633da-116d-4bc7-a72b-4a2e6d3db430",
   "metadata": {},
   "outputs": [
    {
     "data": {
      "text/plain": [
       "True"
      ]
     },
     "execution_count": 54,
     "metadata": {},
     "output_type": "execute_result"
    }
   ],
   "source": [
    "#  set function\n",
    " # isjoint\n",
    "s1.isdisjoint(s2)\n",
    "\n",
    "s2.issubset(s1)\n",
    "\n",
    "s2.issuperset(s1)"
   ]
  },
  {
   "cell_type": "markdown",
   "id": "e05e0d79-98ac-49cf-be9f-6dae1b4ffc11",
   "metadata": {},
   "source": [
    "# frozenset"
   ]
  },
  {
   "cell_type": "code",
   "execution_count": 69,
   "id": "a49a7256-081d-4fa3-b37c-c60baf8ae1ee",
   "metadata": {},
   "outputs": [
    {
     "name": "stdout",
     "output_type": "stream",
     "text": [
      "frozenset({1, 2, 3, 4, 5}) frozenset({4, 5, 7, 8, 9})\n",
      "frozenset({4, 5})\n",
      "frozenset({1, 2, 3})\n"
     ]
    },
    {
     "data": {
      "text/plain": [
       "frozenset({1, 2, 3, 7, 8, 9})"
      ]
     },
     "execution_count": 69,
     "metadata": {},
     "output_type": "execute_result"
    }
   ],
   "source": [
    " # union operation in frozenset \n",
    "fs1=frozenset([1,2,3,4,5])\n",
    "fs2=frozenset([7,8,9,4,5])\n",
    "fs1 | fs2\n",
    "print(fs1,fs2)\n",
    "#  intersection\n",
    " print(fs1&fs2)\n",
    "#  diff\n",
    "print(fs1-fs2)\n",
    "\n",
    "#  symmitrric diff4\n",
    "fs1 ^ fs2\n",
    "  \n"
   ]
  },
  {
   "cell_type": "code",
   "execution_count": 75,
   "id": "9c31e287-756f-4684-b165-8ba5e0236864",
   "metadata": {},
   "outputs": [
    {
     "name": "stdout",
     "output_type": "stream",
     "text": [
      "frozenset({1, 2, 3, 4, 5, frozenset({8, 9, 7})})\n"
     ]
    }
   ],
   "source": [
    "# 2d frozenset \n",
    "\n",
    "fs=frozenset([1,2,3,4,5,frozenset([7,8,9])])\n",
    "print(fs)              "
   ]
  },
  {
   "cell_type": "code",
   "execution_count": 80,
   "id": "c12d1d68-290a-40af-9d21-f91792e47f2d",
   "metadata": {},
   "outputs": [
    {
     "data": {
      "text/plain": [
       "{3, 6, 9}"
      ]
     },
     "execution_count": 80,
     "metadata": {},
     "output_type": "execute_result"
    }
   ],
   "source": [
    "#  set compriantion \n",
    "{i for i in range(1,11) if i%3==0}"
   ]
  },
  {
   "cell_type": "code",
   "execution_count": null,
   "id": "5824756a-5fc4-4d94-9c64-af7aea2cf471",
   "metadata": {},
   "outputs": [],
   "source": []
  }
 ],
 "metadata": {
  "kernelspec": {
   "display_name": "Python 3 (ipykernel)",
   "language": "python",
   "name": "python3"
  },
  "language_info": {
   "codemirror_mode": {
    "name": "ipython",
    "version": 3
   },
   "file_extension": ".py",
   "mimetype": "text/x-python",
   "name": "python",
   "nbconvert_exporter": "python",
   "pygments_lexer": "ipython3",
   "version": "3.13.0"
  }
 },
 "nbformat": 4,
 "nbformat_minor": 5
}
