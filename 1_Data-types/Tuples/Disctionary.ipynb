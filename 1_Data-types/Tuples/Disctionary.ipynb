{
 "cells": [
  {
   "cell_type": "markdown",
   "id": "1002fad3-a8b5-4cbe-84d5-0ee09043ee0b",
   "metadata": {},
   "source": [
    "#  disctionary "
   ]
  },
  {
   "cell_type": "code",
   "execution_count": 22,
   "id": "a7d568e9-6d11-4159-b4cd-1b6c58f04454",
   "metadata": {},
   "outputs": [
    {
     "name": "stdout",
     "output_type": "stream",
     "text": [
      "{'name': 'rohit', 'age': '19'}\n",
      "<class 'dict'>\n",
      "{'name': 'rohit', 'roll No': '90', 'prn': '231102107', 'subject': {'dsa': 90, 'math': 80, 'english': 50}}\n"
     ]
    }
   ],
   "source": [
    "#  syntax\n",
    "\n",
    "dic={'name':'rohit','age':'19'}\n",
    "print(dic)\n",
    "#  empty dic\n",
    "dic={}\n",
    "print(type(dic))\n",
    "#  2d dict\n",
    "\n",
    "collage={\n",
    "    'name':'rohit',\n",
    "    'roll No':'90',\n",
    "    'prn':'231102107',\n",
    "    'subject':{\n",
    "        'dsa':90,\n",
    "        'math':80,\n",
    "        'english':50,\n",
    "    }\n",
    "}\n",
    "print(collage)"
   ]
  },
  {
   "cell_type": "code",
   "execution_count": 25,
   "id": "c4865c21-0fb9-4f15-ac15-bb4f139758c5",
   "metadata": {},
   "outputs": [
    {
     "ename": "TypeError",
     "evalue": "'set' object is not callable",
     "output_type": "error",
     "traceback": [
      "\u001b[1;31m---------------------------------------------------------------------------\u001b[0m",
      "\u001b[1;31mTypeError\u001b[0m                                 Traceback (most recent call last)",
      "Cell \u001b[1;32mIn[25], line 2\u001b[0m\n\u001b[0;32m      1\u001b[0m \u001b[38;5;66;03m#  type conversion \u001b[39;00m\n\u001b[1;32m----> 2\u001b[0m d4 \u001b[38;5;241m=\u001b[39m \u001b[38;5;28;43mdict\u001b[39;49m\u001b[43m(\u001b[49m\u001b[43m[\u001b[49m\u001b[43m(\u001b[49m\u001b[38;5;124;43m'\u001b[39;49m\u001b[38;5;124;43mname\u001b[39;49m\u001b[38;5;124;43m'\u001b[39;49m\u001b[43m,\u001b[49m\u001b[38;5;124;43m'\u001b[39;49m\u001b[38;5;124;43mnitish\u001b[39;49m\u001b[38;5;124;43m'\u001b[39;49m\u001b[43m)\u001b[49m\u001b[43m,\u001b[49m\u001b[43m(\u001b[49m\u001b[38;5;124;43m'\u001b[39;49m\u001b[38;5;124;43mage\u001b[39;49m\u001b[38;5;124;43m'\u001b[39;49m\u001b[43m,\u001b[49m\u001b[38;5;241;43m32\u001b[39;49m\u001b[43m)\u001b[49m\u001b[43m,\u001b[49m\u001b[43m(\u001b[49m\u001b[38;5;241;43m3\u001b[39;49m\u001b[43m,\u001b[49m\u001b[38;5;241;43m3\u001b[39;49m\u001b[43m)\u001b[49m\u001b[43m]\u001b[49m\u001b[43m)\u001b[49m\n\u001b[0;32m      3\u001b[0m d4\n",
      "\u001b[1;31mTypeError\u001b[0m: 'set' object is not callable"
     ]
    }
   ],
   "source": [
    "#  type conversion \n",
    "d4 = dict([('name','nitish'),('age',32),(3,3)])\n",
    "d4"
   ]
  },
  {
   "cell_type": "code",
   "execution_count": 34,
   "id": "23080194-34ee-4c36-9949-6bd2afa4b1e3",
   "metadata": {},
   "outputs": [
    {
     "name": "stdout",
     "output_type": "stream",
     "text": [
      "{'name': 'rohit', 'value': 5, (1, 2, 3): 55}\n"
     ]
    },
    {
     "data": {
      "text/plain": [
       "dict"
      ]
     },
     "execution_count": 34,
     "metadata": {},
     "output_type": "execute_result"
    }
   ],
   "source": [
    "#  duplicate key in dict \n",
    "dic={'name':'rohit','name':'bhushan'} # always add updated value in dict \n",
    "dic\n",
    "#  mutable iteam as a key \n",
    "di={'name':'rohit','value':5,(1,2,3):55}\n",
    "print(di)\n",
    "type(dic)"
   ]
  },
  {
   "cell_type": "code",
   "execution_count": 37,
   "id": "35c10f3a-5653-4ff9-8610-8416d45b5649",
   "metadata": {},
   "outputs": [
    {
     "data": {
      "text/plain": [
       "'bhushan'"
      ]
     },
     "execution_count": 37,
     "metadata": {},
     "output_type": "execute_result"
    }
   ],
   "source": [
    "#  accesing item in dict \n",
    "dic['name']"
   ]
  },
  {
   "cell_type": "code",
   "execution_count": 39,
   "id": "0e8e3842-eb28-4f7f-9769-a6957bf65641",
   "metadata": {},
   "outputs": [
    {
     "data": {
      "text/plain": [
       "{'Sunday': 30.5,\n",
       " 'Monday': 32.6,\n",
       " 'Tuesday': 31.8,\n",
       " 'Wednesday': 33.4,\n",
       " 'Thursday': 29.8,\n",
       " 'Friday': 30.2,\n",
       " 'Saturday': 29.9}"
      ]
     },
     "execution_count": 39,
     "metadata": {},
     "output_type": "execute_result"
    }
   ],
   "source": [
    "days = [\"Sunday\", \"Monday\",\"Tuesday\",\"Wednesday\",\"Thursday\",\"Friday\",\"Saturday\"]\n",
    "temp_C = [30.5,32.6,31.8,33.4,29.8,30.2,29.9]\n",
    "\n",
    "{key:value for (key,value) in zip(days,temp_C)}"
   ]
  },
  {
   "cell_type": "code",
   "execution_count": 57,
   "id": "2b3d8b6a-22b6-4af9-9920-d9256087483f",
   "metadata": {},
   "outputs": [
    {
     "data": {
      "text/plain": [
       "{'phone': 10, 'charger': 32}"
      ]
     },
     "execution_count": 57,
     "metadata": {},
     "output_type": "execute_result"
    }
   ],
   "source": [
    "products = {'phone':10,'laptop':0,'charger':32,'tablet':0} \n",
    "{key:value for (key,value) in products.items() if value>0}"
   ]
  },
  {
   "cell_type": "code",
   "execution_count": null,
   "id": "32376a08-840e-493b-bb6e-0ba43de3f48c",
   "metadata": {},
   "outputs": [],
   "source": []
  }
 ],
 "metadata": {
  "kernelspec": {
   "display_name": "Python 3 (ipykernel)",
   "language": "python",
   "name": "python3"
  },
  "language_info": {
   "codemirror_mode": {
    "name": "ipython",
    "version": 3
   },
   "file_extension": ".py",
   "mimetype": "text/x-python",
   "name": "python",
   "nbconvert_exporter": "python",
   "pygments_lexer": "ipython3",
   "version": "3.13.0"
  }
 },
 "nbformat": 4,
 "nbformat_minor": 5
}
