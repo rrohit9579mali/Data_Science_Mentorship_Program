{
 "cells": [
  {
   "cell_type": "markdown",
   "id": "b64e4b2d-dda2-4e58-a25d-d04a27c107bf",
   "metadata": {},
   "source": [
    "# What is list "
   ]
  },
  {
   "cell_type": "code",
   "execution_count": 9,
   "id": "78d6c15b-c89b-47a8-888e-458c384d08fa",
   "metadata": {},
   "outputs": [
    {
     "name": "stdout",
     "output_type": "stream",
     "text": [
      "[1, 2, 3, 4]\n",
      "140719117231016\n",
      "140719117231048\n",
      "140719117231048\n",
      "140719117231080\n"
     ]
    }
   ],
   "source": [
    "#  list is a nonprimitive data  structure\n",
    "a=[1,2,3,4]\n",
    "print(a)\n",
    "#  print the address\n",
    "\n",
    "print(id(a[0]))\n",
    "print(id(a[1]))    \n",
    "print(id(2))\n",
    "print(id(3))\n",
    "      "
   ]
  },
  {
   "cell_type": "code",
   "execution_count": null,
   "id": "08f4bb97-3aa3-47c7-ab43-143721f2430a",
   "metadata": {},
   "outputs": [],
   "source": []
  }
 ],
 "metadata": {
  "kernelspec": {
   "display_name": "Python 3 (ipykernel)",
   "language": "python",
   "name": "python3"
  },
  "language_info": {
   "codemirror_mode": {
    "name": "ipython",
    "version": 3
   },
   "file_extension": ".py",
   "mimetype": "text/x-python",
   "name": "python",
   "nbconvert_exporter": "python",
   "pygments_lexer": "ipython3",
   "version": "3.13.0"
  }
 },
 "nbformat": 4,
 "nbformat_minor": 5
}
