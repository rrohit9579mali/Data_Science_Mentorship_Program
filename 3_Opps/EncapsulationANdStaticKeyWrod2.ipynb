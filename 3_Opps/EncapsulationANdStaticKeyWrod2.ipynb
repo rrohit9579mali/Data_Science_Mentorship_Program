{
 "cells": [
  {
   "cell_type": "code",
   "execution_count": 2,
   "metadata": {
    "id": "2jfIFsMocjN3"
   },
   "outputs": [
    {
     "name": "stdout",
     "output_type": "stream",
     "text": [
      "Jay Shree ram\n"
     ]
    }
   ],
   "source": [
    "print(\"Jay Shree ram\")"
   ]
  },
  {
   "cell_type": "markdown",
   "metadata": {
    "id": "JUmWTebLbjwN"
   },
   "source": [
    "# Write OOP classes to handle the following scenarios:\n",
    "\n",
    "- A user can create and view 2D coordinates\n",
    "- A user can find out the distance between 2 coordinates\n",
    "- A user can find find the distance of a coordinate from origin\n",
    "- A user can check if a point lies on a given line\n",
    "- A user can find the distance between a given 2D point and a given line\n",
    "\n"
   ]
  },
  {
   "cell_type": "code",
   "execution_count": 19,
   "metadata": {
    "colab": {
     "base_uri": "https://localhost:8080/"
    },
    "id": "z3QeFQu07dpO",
    "outputId": "0af4fec2-739e-42f5-fcb5-428f5ea425fe"
   },
   "outputs": [],
   "source": [
    "#  tow or more class interact with each other \n",
    "class point:\n",
    "    def __init__(self,x,y):\n",
    "        self.xc=x\n",
    "        self.yc=y\n",
    "    def __str__(self):\n",
    "        return '({},{})'.format(self.xc,self.yc)\n",
    "    def distance(self,other):\n",
    "        d=((self.xc-other.xc)**2 +(self.yc-other.yc)**2)**0.5\n",
    "        return d    \n",
    "    def origindist(self):\n",
    "        od=((self.xc)**2+(self.yc)**2)**0.5\n",
    "        return od"
   ]
  },
  {
   "cell_type": "code",
   "execution_count": 24,
   "metadata": {},
   "outputs": [
    {
     "name": "stdout",
     "output_type": "stream",
     "text": [
      "(5,6)\n",
      "(7,8)\n",
      "7.810249675906654\n",
      "10.63014581273465\n"
     ]
    }
   ],
   "source": [
    "p1=point(5,6)\n",
    "p2=point(7,8)\n",
    "print(p1)\n",
    "print(p2)\n",
    "\n",
    "p1.distance(p2)\n",
    "print(p1.origindist())\n",
    "print(p2.origindist())"
   ]
  },
  {
   "cell_type": "markdown",
   "metadata": {
    "id": "s6n-PpwgfiMv"
   },
   "source": [
    "### How objects access attributes"
   ]
  },
  {
   "cell_type": "code",
   "execution_count": 2,
   "metadata": {
    "id": "XUwz5NX3fl3p"
   },
   "outputs": [],
   "source": [
    " class Person:\n",
    "     def __init__(self,name,country):\n",
    "         self.name=name\n",
    "         self.country =country\n",
    "\n",
    "     def dipslay(self):\n",
    "         if self.name:\n",
    "             print(self.name)\n",
    "         else:\n",
    "             print(self.country)\n",
    "         "
   ]
  },
  {
   "cell_type": "code",
   "execution_count": 5,
   "metadata": {},
   "outputs": [
    {
     "name": "stdout",
     "output_type": "stream",
     "text": [
      "<__main__.Person object at 0x0000025E0C50B610>\n"
     ]
    }
   ],
   "source": [
    "p1=Person(4,5)\n",
    "print(p1)"
   ]
  },
  {
   "cell_type": "markdown",
   "metadata": {
    "id": "gFxMl3Gpfmq-"
   },
   "source": [
    "### Attribute creation from outside of the class"
   ]
  },
  {
   "cell_type": "markdown",
   "metadata": {
    "id": "s26UEjp6fqjn"
   },
   "source": [
    "### Reference Variables\n",
    "\n",
    "- Reference variables hold the objects\n",
    "- We can create objects without reference variable as well\n",
    "- An object can have multiple reference variables\n",
    "- Assigning a new reference variable to an existing object does not create a new object"
   ]
  },
  {
   "cell_type": "markdown",
   "metadata": {
    "id": "4nqDJqJvfukO"
   },
   "source": [
    "### Pass by reference"
   ]
  },
  {
   "cell_type": "code",
   "execution_count": 22,
   "metadata": {},
   "outputs": [],
   "source": [
    "class passbyval:\n",
    "      def __init__(self,name,gender):\n",
    "          self.name=name\n",
    "          self.gender=gender\n",
    "\n",
    "def person(passbyval):\n",
    "    print(passbyval.name,passbyval.gender)"
   ]
  },
  {
   "cell_type": "code",
   "execution_count": 24,
   "metadata": {},
   "outputs": [
    {
     "name": "stdout",
     "output_type": "stream",
     "text": [
      "rohit male\n"
     ]
    }
   ],
   "source": [
    "p=passbyval(\"rohit\",\"male\")\n",
    "person(p)\n",
    "p.name=\"Mohit\""
   ]
  },
  {
   "cell_type": "markdown",
   "metadata": {
    "id": "gRNNs9_DFvud"
   },
   "source": [
    "### Object ki mutability"
   ]
  },
  {
   "cell_type": "markdown",
   "metadata": {
    "id": "A2Opzki1fw7x"
   },
   "source": [
    "### Encapsulation"
   ]
  },
  {
   "cell_type": "code",
   "execution_count": null,
   "metadata": {},
   "outputs": [],
   "source": []
  },
  {
   "cell_type": "markdown",
   "metadata": {
    "id": "2zN_yVYaf0_1"
   },
   "source": [
    "### Collection of objects"
   ]
  },
  {
   "cell_type": "code",
   "execution_count": 17,
   "metadata": {},
   "outputs": [],
   "source": [
    "#  list of objcet \n",
    "class person:\n",
    "    def __init__(self,name,gender):\n",
    "        self.name=name\n",
    "        self.gender=gender        \n",
    "    def __str__(self):\n",
    "        return '{},{}'.format(self.name,self.gender)"
   ]
  },
  {
   "cell_type": "code",
   "execution_count": 25,
   "metadata": {},
   "outputs": [
    {
     "name": "stdout",
     "output_type": "stream",
     "text": [
      "Rohit male\n",
      "mohini female\n",
      "kishor male\n"
     ]
    }
   ],
   "source": [
    "p1=person(\"Rohit\",'male')\n",
    "p2=person(\"mohini\",'female')\n",
    "p3=person(\"kishor\",'male')\n",
    "l=[p1,p2,p3]\n",
    "for i in l:\n",
    "    print(i.name,i.gender)"
   ]
  },
  {
   "cell_type": "code",
   "execution_count": 29,
   "metadata": {},
   "outputs": [
    {
     "name": "stdout",
     "output_type": "stream",
     "text": [
      "male\n",
      "female\n",
      "male\n"
     ]
    }
   ],
   "source": [
    "dic={1:p1,2:p2,3:p3}\n",
    "for i in dic:\n",
    "    print(dic[i].gender)"
   ]
  },
  {
   "cell_type": "markdown",
   "metadata": {
    "id": "TKdM9xIFf8Lt"
   },
   "source": [
    "### Static Variables(Vs Instance variables)"
   ]
  },
  {
   "cell_type": "markdown",
   "metadata": {
    "id": "K9bxHyfBgC3Y"
   },
   "source": [
    "### Static methods"
   ]
  },
  {
   "cell_type": "code",
   "execution_count": 57,
   "metadata": {
    "id": "_c09xqV9gEf-"
   },
   "outputs": [],
   "source": [
    "class S:\n",
    "    count = 0  # Static variable (shared across all instances)\n",
    "\n",
    "    def __init__(self):\n",
    "        self.c = S.count  # Assigns the current value of count to the instance variable 'c'\n",
    "        S.count += 1  # Increments the static variable\n"
   ]
  },
  {
   "cell_type": "code",
   "execution_count": 60,
   "metadata": {},
   "outputs": [
    {
     "name": "stdout",
     "output_type": "stream",
     "text": [
      "12\n"
     ]
    }
   ],
   "source": [
    "S1=S()\n",
    "S2=S()\n",
    "s3=S()\n",
    "s4=S()\n",
    "print(S1.count)"
   ]
  },
  {
   "cell_type": "code",
   "execution_count": 106,
   "metadata": {},
   "outputs": [],
   "source": [
    "# sum of all objects\n",
    "class Sum:\n",
    "    __sum=0\n",
    "    def __init__(self):\n",
    "        Sum.__sum+=1\n",
    "    def __str__(self):\n",
    "        return '{}'.format(self.__sum)"
   ]
  },
  {
   "cell_type": "code",
   "execution_count": 108,
   "metadata": {},
   "outputs": [
    {
     "name": "stdout",
     "output_type": "stream",
     "text": [
      "2\n"
     ]
    }
   ],
   "source": [
    "#  private s1.sum using __ this syantax \n",
    "s1.sum=\"demo\"\n",
    "print(s1)"
   ]
  },
  {
   "cell_type": "code",
   "execution_count": 117,
   "metadata": {},
   "outputs": [],
   "source": [
    "#  onothe techani dont use __str__ let see\n",
    "class sm:\n",
    "    __sum=0\n",
    "    def __init__(self):\n",
    "      sm.__sum+=1\n",
    "    def setter():\n",
    "        return sm.__sum"
   ]
  },
  {
   "cell_type": "code",
   "execution_count": 120,
   "metadata": {},
   "outputs": [
    {
     "data": {
      "text/plain": [
       "3"
      ]
     },
     "execution_count": 120,
     "metadata": {},
     "output_type": "execute_result"
    }
   ],
   "source": [
    "a=sm()\n",
    "sm.setter()"
   ]
  },
  {
   "cell_type": "markdown",
   "metadata": {
    "id": "Izqb_9FtwoIZ"
   },
   "source": [
    "##### Points to remember about static\n",
    "\n",
    "- Static attributes are created at class level.\n",
    "- Static attributes are accessed using ClassName.\n",
    "- Static attributes are object independent. We can access them without creating instance (object) of the class in which they are defined.\n",
    "- The value stored in static attribute is shared between all instances(objects) of the class in which the static attribute is defined."
   ]
  },
  {
   "cell_type": "code",
   "execution_count": null,
   "metadata": {},
   "outputs": [],
   "source": []
  },
  {
   "cell_type": "code",
   "execution_count": null,
   "metadata": {},
   "outputs": [],
   "source": []
  }
 ],
 "metadata": {
  "colab": {
   "provenance": []
  },
  "kernelspec": {
   "display_name": "Python 3 (ipykernel)",
   "language": "python",
   "name": "python3"
  },
  "language_info": {
   "codemirror_mode": {
    "name": "ipython",
    "version": 3
   },
   "file_extension": ".py",
   "mimetype": "text/x-python",
   "name": "python",
   "nbconvert_exporter": "python",
   "pygments_lexer": "ipython3",
   "version": "3.13.0"
  }
 },
 "nbformat": 4,
 "nbformat_minor": 4
}
