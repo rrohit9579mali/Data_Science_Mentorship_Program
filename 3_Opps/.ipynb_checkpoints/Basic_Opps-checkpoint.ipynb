{
 "cells": [
  {
   "cell_type": "code",
   "execution_count": 6,
   "id": "11ca83c3-0848-4a1f-b8bc-f358364a01b0",
   "metadata": {},
   "outputs": [],
   "source": [
    "class Atm:\n",
    "\n",
    "  # constructor(special function)->superpower ->\n",
    "  def __init__(self):\n",
    "    print(id(self))\n",
    "    self.pin = ''\n",
    "    self.balance = 0\n",
    "    self.menu()\n",
    "\n",
    "  def menu(self):\n",
    "    user_input = input(\"\"\"\n",
    "    Hi how can I help you?\n",
    "    1. Press 1 to create pin\n",
    "    2. Press 2 to change pin\n",
    "    3. Press 3 to check balance\n",
    "    4. Press 4 to withdraw\n",
    "    5. Anything else to exit\n",
    "    \"\"\")\n",
    "\n",
    "    if user_input == '1':\n",
    "      self.create_pin()\n",
    "    elif user_input == '2':\n",
    "      self.change_pin()\n",
    "    elif user_input == '3':\n",
    "      self.check_balance()\n",
    "    elif user_input == '4':\n",
    "      self.withdraw()\n",
    "    else:\n",
    "      exit()\n",
    "\n",
    "  def create_pin(self):\n",
    "    user_pin = input('enter your pin')\n",
    "    self.pin = user_pin\n",
    "\n",
    "    user_balance = int(input('enter balance'))\n",
    "    self.balance = user_balance\n",
    "\n",
    "    print('pin created successfully')\n",
    "    self.menu()\n",
    "\n",
    "  def change_pin(self):\n",
    "    old_pin = input('enter old pin')\n",
    "\n",
    "    if old_pin == self.pin:\n",
    "      # let him change the pin\n",
    "      new_pin = input('enter new pin')\n",
    "      self.pin = new_pin\n",
    "      print('pin change successful')\n",
    "      self.menu()\n",
    "    else:\n",
    "      print('nai karne de sakta re baba')\n",
    "      self.menu()\n",
    "\n",
    "  def check_balance(self):\n",
    "    user_pin = input('enter your pin')\n",
    "    if user_pin == self.pin:\n",
    "      print('your balance is ',self.balance)\n",
    "    else:\n",
    "      print('chal nikal yahan se')\n",
    "\n",
    "  def withdraw(self):\n",
    "    user_pin = input('enter the pin')\n",
    "    if user_pin == self.pin:\n",
    "      # allow to withdraw\n",
    "      amount = int(input('enter the amount'))\n",
    "      if amount <= self.balance:\n",
    "        self.balance = self.balance - amount\n",
    "        print('withdrawl successful.balance is',self.balance)\n",
    "      else:\n",
    "        print('abe garib')\n",
    "    else:\n",
    "      print('sale chor')\n",
    "    self.menu()\n",
    "\n",
    "\n"
   ]
  },
  {
   "cell_type": "code",
   "execution_count": 7,
   "id": "a31abdcb-f68d-4e82-89ca-85fc6e4468c9",
   "metadata": {},
   "outputs": [
    {
     "name": "stdout",
     "output_type": "stream",
     "text": [
      "2900804688528\n"
     ]
    },
    {
     "name": "stdin",
     "output_type": "stream",
     "text": [
      "\n",
      "    Hi how can I help you?\n",
      "    1. Press 1 to create pin\n",
      "    2. Press 2 to change pin\n",
      "    3. Press 3 to check balance\n",
      "    4. Press 4 to withdraw\n",
      "    5. Anything else to exit\n",
      "     2\n",
      "enter old pin 1234\n"
     ]
    },
    {
     "name": "stdout",
     "output_type": "stream",
     "text": [
      "nai karne de sakta re baba\n"
     ]
    },
    {
     "name": "stdin",
     "output_type": "stream",
     "text": [
      "\n",
      "    Hi how can I help you?\n",
      "    1. Press 1 to create pin\n",
      "    2. Press 2 to change pin\n",
      "    3. Press 3 to check balance\n",
      "    4. Press 4 to withdraw\n",
      "    5. Anything else to exit\n",
      "     123\n"
     ]
    }
   ],
   "source": [
    "obj1 = Atm()"
   ]
  },
  {
   "cell_type": "code",
   "execution_count": 14,
   "id": "0935878a-c572-4447-9612-00da8ec097b0",
   "metadata": {},
   "outputs": [],
   "source": [
    "#  create the won franction data type \n",
    "class Fraction:\n",
    "    def __init__(self,x,y):\n",
    "        self.num=x\n",
    "        self.den=y\n",
    "        self.fracnum()\n",
    "    def   fracnum(self):\n",
    "        print(x,\"/\",y,\"=\",x/y)\n",
    "        return x/y"
   ]
  },
  {
   "cell_type": "code",
   "execution_count": 15,
   "id": "410d4656-cb4f-4ab6-a8eb-c17b37b24fa0",
   "metadata": {},
   "outputs": [
    {
     "name": "stdin",
     "output_type": "stream",
     "text": [
      "Enter the numerator 10\n",
      "Enter the denominator 12\n"
     ]
    },
    {
     "name": "stdout",
     "output_type": "stream",
     "text": [
      "10 / 12 = 0.8333333333333334\n"
     ]
    }
   ],
   "source": [
    "x=int(input(\"Enter the numerator\"))\n",
    "y=int(input(\"Enter the denominator\"))\n",
    "if x<y:\n",
    "    obj=Fraction(x,y)    "
   ]
  },
  {
   "cell_type": "code",
   "execution_count": 37,
   "id": "58df27c3-afc1-4770-b168-26000cf14837",
   "metadata": {},
   "outputs": [],
   "source": [
    "#  using str magic method \n",
    "class B:\n",
    "    def __init__(self,x,y):\n",
    "        self.n=x\n",
    "        self.d=y\n",
    "    def __str__(self):\n",
    "        return '{}/{}'.format(self.n,self.d)"
   ]
  },
  {
   "cell_type": "code",
   "execution_count": 39,
   "id": "0da86184-ca9d-4e4b-b333-849067fdda79",
   "metadata": {},
   "outputs": [
    {
     "ename": "TypeError",
     "evalue": "unsupported operand type(s) for +: 'B' and 'B'",
     "output_type": "error",
     "traceback": [
      "\u001b[1;31m---------------------------------------------------------------------------\u001b[0m",
      "\u001b[1;31mTypeError\u001b[0m                                 Traceback (most recent call last)",
      "Cell \u001b[1;32mIn[39], line 3\u001b[0m\n\u001b[0;32m      1\u001b[0m f1\u001b[38;5;241m=\u001b[39mB(\u001b[38;5;241m4\u001b[39m,\u001b[38;5;241m2\u001b[39m)\n\u001b[0;32m      2\u001b[0m f2\u001b[38;5;241m=\u001b[39mB(\u001b[38;5;241m7\u001b[39m,\u001b[38;5;241m6\u001b[39m)\n\u001b[1;32m----> 3\u001b[0m \u001b[38;5;28mprint\u001b[39m(\u001b[43mf1\u001b[49m\u001b[38;5;241;43m+\u001b[39;49m\u001b[43mf2\u001b[49m)\n",
      "\u001b[1;31mTypeError\u001b[0m: unsupported operand type(s) for +: 'B' and 'B'"
     ]
    }
   ],
   "source": [
    "f1=B(4,2)\n",
    "f2=B(7,6)\n",
    "print(f1+f2)"
   ]
  },
  {
   "cell_type": "code",
   "execution_count": 61,
   "id": "12f58853-bfdf-43b5-9e1f-25efb1e1ecfc",
   "metadata": {},
   "outputs": [],
   "source": [
    "#  f1 and f2 are possible suing add  method noe lte see \n",
    "class addobj:\n",
    "    def __init__(self,x,y):\n",
    "        self.n=x\n",
    "        self.d=y\n",
    "    def __add__(self,other):\n",
    "        nume=(self.n*other.d+self.d*other.n)\n",
    "        deno=self.d*other.d\n",
    "        return '{}/{}'.format(nume,deno)"
   ]
  },
  {
   "cell_type": "code",
   "execution_count": 62,
   "id": "3bea8dab-3269-4a3e-a530-0ceffc0fdc62",
   "metadata": {},
   "outputs": [
    {
     "name": "stdout",
     "output_type": "stream",
     "text": [
      "23/10\n"
     ]
    }
   ],
   "source": [
    "f3=addobj(3,2)\n",
    "f4=addobj(4,5)\n",
    "print(f3+f4)"
   ]
  },
  {
   "cell_type": "code",
   "execution_count": 79,
   "id": "ab1fcff9-f739-419a-b3ed-4cb36f2b1c91",
   "metadata": {},
   "outputs": [],
   "source": [
    "class Args:\n",
    "    def __init__(self, num):\n",
    "        self.num = num\n",
    "\n",
    "    def __add__(self, *others):\n",
    "        ans = self.num\n",
    "        for obj in others:\n",
    "            ans += obj.num\n",
    "        return Args(ans)  # ✅ New object return kela\n",
    "\n",
    "    def __str__(self):\n",
    "        return str(self.num)\n",
    "\n"
   ]
  },
  {
   "cell_type": "code",
   "execution_count": 80,
   "id": "c17993c5-1b24-43d7-81ad-613eacf6da5c",
   "metadata": {},
   "outputs": [
    {
     "name": "stdout",
     "output_type": "stream",
     "text": [
      "18\n"
     ]
    }
   ],
   "source": [
    "# ✅ Objects banavle\n",
    "n1 = Args(5)\n",
    "n2 = Args(6)\n",
    "n3 = Args(7)\n",
    "\n",
    "# ✅ Multiple objects add kele\n",
    "result = n1.__add__(n2, n3)  #  ✅ Manually method call keli\n",
    "print(result)  # Output: 18\n"
   ]
  },
  {
   "cell_type": "code",
   "execution_count": null,
   "id": "af46c845-1c7b-49e5-9aab-785840a54dd3",
   "metadata": {},
   "outputs": [],
   "source": []
  }
 ],
 "metadata": {
  "kernelspec": {
   "display_name": "Python 3 (ipykernel)",
   "language": "python",
   "name": "python3"
  },
  "language_info": {
   "codemirror_mode": {
    "name": "ipython",
    "version": 3
   },
   "file_extension": ".py",
   "mimetype": "text/x-python",
   "name": "python",
   "nbconvert_exporter": "python",
   "pygments_lexer": "ipython3",
   "version": "3.13.0"
  }
 },
 "nbformat": 4,
 "nbformat_minor": 5
}
