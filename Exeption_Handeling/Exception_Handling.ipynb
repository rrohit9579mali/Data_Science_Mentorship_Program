{
 "cells": [
  {
   "cell_type": "markdown",
   "id": "c704a88a-b7d4-4374-bff2-190d4fc38e61",
   "metadata": {},
   "source": [
    "There are 2 stages where error may happen in a program\n",
    "\n",
    "- During compilation -> Syntax Error\n",
    "- During execution -> Exceptions"
   ]
  },
  {
   "cell_type": "code",
   "execution_count": null,
   "id": "848fe9fb-764a-4221-a705-bc444fba9fcf",
   "metadata": {},
   "outputs": [],
   "source": []
  },
  {
   "cell_type": "markdown",
   "id": "dce95eb1-ff19-45bd-87c5-ffd7cca19511",
   "metadata": {},
   "source": [
    "### Syntax Error\n",
    "\n",
    "- Something in the program is not written according to the program grammar.\n",
    "- Error is raised by the interpreter/compiler\n",
    "- You can solve it by rectifying the program\n"
   ]
  },
  {
   "cell_type": "markdown",
   "id": "c7b877f3-6b5d-4720-a45f-b94296a76d34",
   "metadata": {},
   "source": [
    "### Other examples of syntax error\n",
    "\n",
    "- Leaving symbols like colon,brackets\n",
    "- Misspelling a keyword\n",
    "- Incorrect indentation\n",
    "- empty if/else/loops/class/functions"
   ]
  },
  {
   "cell_type": "markdown",
   "id": "f92c875e-26fc-46d6-8a3c-b90899bbd487",
   "metadata": {},
   "source": [
    "### Exceptions\n",
    "\n",
    "If things go wrong during the execution of the program(runtime). It generally happens when something unforeseen has happened.\n",
    "\n",
    "- Exceptions are raised by python runtime\n",
    "- You have to takle is on the fly\n",
    "\n",
    "#### **Examples**\n",
    "\n",
    "- Memory overflow\n",
    "- Divide by 0 -> logical error\n",
    "- Database error"
   ]
  },
  {
   "cell_type": "code",
   "execution_count": 9,
   "id": "e43ebcad-ea0b-4bd0-827d-9d069c2d0e22",
   "metadata": {},
   "outputs": [
    {
     "name": "stdout",
     "output_type": "stream",
     "text": [
      "file name is wrong\n"
     ]
    }
   ],
   "source": [
    "#  creaate the program for exception handeling \n",
    "with open('exceptionhandler.txt','w')as f:\n",
    "    f.write(\"Hello World\")\n",
    "\n",
    "#  suppose you open the file but  giev a file name is wrong  how to do it \n",
    "try: \n",
    "    with open('exceptionhand.txt','r')as f:\n",
    "     print(f.read())\n",
    "except:\n",
    "    print(\"file name is wrong\")\n"
   ]
  },
  {
   "cell_type": "code",
   "execution_count": 14,
   "id": "96d758ad-0919-4d29-a5b9-909209dc01af",
   "metadata": {},
   "outputs": [
    {
     "name": "stdout",
     "output_type": "stream",
     "text": [
      "Hello World\n",
      "Exception Type: NameError\n",
      "Error Message: name 'm' is not defined\n",
      "Traceback Details:\n"
     ]
    }
   ],
   "source": [
    "import traceback\n",
    "\n",
    "try:\n",
    "    with open('exceptionhandler.txt', 'r') as f:\n",
    "        print(f.read())\n",
    "        print(m)  # 'm' is not defined, causing a NameError\n",
    "except Exception as e:\n",
    "    print(\"Exception Type:\", type(e).__name__)  # Identifies the error type\n",
    "    print(\"Error Message:\", e)  # Prints the actual error message\n",
    "    print(\"Traceback Details:\")# Prints the full traceback details\n"
   ]
  },
  {
   "cell_type": "code",
   "execution_count": 32,
   "id": "7074d633-8d7e-4f26-8a7f-ac332d2a5340",
   "metadata": {},
   "outputs": [
    {
     "name": "stdout",
     "output_type": "stream",
     "text": [
      "₹200 cash withdraw successfully  . you current  balence is  ₹800\n",
      "❌ Error: तtere khate me paise nahi hai ।\n"
     ]
    }
   ],
   "source": [
    "class Bank:\n",
    "    def __init__(self, balance):\n",
    "        self.balance = balance  # 'balence' की जगह 'balance' कर दिया\n",
    "\n",
    "    def withdraw(self, amount):  # 'widrow' की जगह 'withdraw' कर दिया\n",
    "        if amount > self.balance:\n",
    "            raise Exception(\"तtere khate me paise nahi hai ।\")\n",
    "        if amount < 0:\n",
    "            raise Exception(\"bhai pehele paise ke value sahi se de ।\")\n",
    "        self.balance -= amount  # 'self.amount' की जगह 'amount' कर दिया\n",
    "        print(f\"₹{amount} cash withdraw successfully  . you current  balence is  ₹{self.balance}\")\n",
    "\n",
    "# बैंक ऑब्जेक्ट बनाना\n",
    "obj = Bank(1000)\n",
    "\n",
    "# Try-Except ब्लॉक\n",
    "try:\n",
    "    obj.withdraw(200)  # सही withdrawal करें\n",
    "    obj.withdraw(10000)  # गलत withdrawal, जिससे exception आएगा\n",
    "except Exception as e:\n",
    "    print(\"❌ Error:\", e)\n"
   ]
  },
  {
   "cell_type": "code",
   "execution_count": 36,
   "id": "5580fd73-d3e9-434a-a219-2d5f321dfb44",
   "metadata": {},
   "outputs": [
    {
     "name": "stdout",
     "output_type": "stream",
     "text": [
      " isse kam paise hai tere pass\n"
     ]
    }
   ],
   "source": [
    "#  create a own exception class \n",
    "class myException(Exception):\n",
    "    def __init__(self,message):\n",
    "        print(message)\n",
    "class Bank:\n",
    "    def __init__(self,b):\n",
    "        self.b=b\n",
    "\n",
    "    def wrd (self,a):\n",
    "        if self.b<a:\n",
    "            raise myException(\" isse kam paise hai tere pass\")\n",
    "        if a<0:\n",
    "            raise myException(\"pehele paise ki value ko sahi se de \")\n",
    "        self.b=self.b-a\n",
    "obj=Bank(1000)\n",
    "try :\n",
    "    obj.wrd(2000)\n",
    "except myException as e:\n",
    "    pass \n",
    "else:\n",
    "    print(obj.b)"
   ]
  },
  {
   "cell_type": "code",
   "execution_count": 45,
   "id": "51f8c043-0572-4f2c-8c08-5d69e8f78e72",
   "metadata": {},
   "outputs": [
    {
     "name": "stdout",
     "output_type": "stream",
     "text": [
      "your account well be hacked\n",
      "bhai sab device pe logout kr diye \n"
     ]
    }
   ],
   "source": [
    "#  create a Google account to provide the security \n",
    "class security(Exception):\n",
    "    def __init__(self,message):\n",
    "        print(message)\n",
    "    def logout(self):\n",
    "        print(\"bhai sab device pe logout kr diye \")\n",
    "class Google:\n",
    "    def __init__(self,email,password,device):\n",
    "        self.email=email\n",
    "        self.password =password\n",
    "        self.device=device\n",
    "\n",
    "    def login(self,email,password,device):\n",
    "        if self.device!=device:\n",
    "            raise security(\"your account well be hacked\")\n",
    "        if self.email==email and self.password==password:\n",
    "            print(\"you login successfully : \")\n",
    "        else :\n",
    "            print(\"login error\")\n",
    "obj=Google(\"r@gmail.com\",\"123\",\"android\") \n",
    "try :\n",
    "    obj.login(\"r@gmail.com\",\"123\",\"android\")\n",
    "except security as e:\n",
    "    e.logout()\n",
    "\n",
    "else:\n",
    "    print(\"thank you for registration \")"
   ]
  },
  {
   "cell_type": "code",
   "execution_count": null,
   "id": "4840ce04-cfa5-4bb9-8bdb-32769826a7cf",
   "metadata": {},
   "outputs": [],
   "source": []
  }
 ],
 "metadata": {
  "kernelspec": {
   "display_name": "Python 3 (ipykernel)",
   "language": "python",
   "name": "python3"
  },
  "language_info": {
   "codemirror_mode": {
    "name": "ipython",
    "version": 3
   },
   "file_extension": ".py",
   "mimetype": "text/x-python",
   "name": "python",
   "nbconvert_exporter": "python",
   "pygments_lexer": "ipython3",
   "version": "3.13.0"
  }
 },
 "nbformat": 4,
 "nbformat_minor": 5
}
